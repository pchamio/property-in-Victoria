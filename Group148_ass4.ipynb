{
 "cells": [
  {
   "cell_type": "markdown",
   "metadata": {},
   "source": [
    "# FIT5196 Assessment 4\n",
    "# FIT5196 Task  in Assessment 4\n",
    "#### Student Name: Pattranit Chaiyabud and Viet Tai Le\n",
    "#### Student ID: 30304148 and 29975336 \n",
    "\n",
    "Date: 28/10/2019\n",
    "\n",
    "Version: 1.0\n",
    "\n",
    "Environment: Python 3.6.0 and Anaconda 4.3.0 (64-bit)\n",
    "\n",
    "Libraries used:\n",
    "* re (for regular expression, included in Anaconda Python 3.6.0)\n",
    "* os (for executing in subshell, included in Anaconda Python 3.6.0)\n",
    "* networkx (for draw graph, include in Anaconda Python 3.6.0)\n",
    "* sklearn ( for regression, include in Anaconda Python 3.6.0 )\n",
    "* pandas (for dataframe, included in Anaconda Python 3.6.0) \n",
    "* sklearn (for linear regression)\n",
    "* geopandas( reading shapefile)\n",
    "\n",
    "\n",
    "\n",
    "## 1. Introduction\n",
    "For this assessment, we will integrate several datasets into one single schema and find and fix possible problems in the data. There are 2 tasks in total.\n",
    "\n",
    "In Task1: Data Integration\n",
    "The column that will be calculated are as the following:\n",
    "- Suburb\n",
    "- train_station_id\n",
    "- distance_to_train_station\n",
    "- travel_min_to_CBD\n",
    "- over_priced?\n",
    "- crime_A_average\n",
    "- crime_B_average\n",
    "- crime_C_average\n",
    "- closest_primary_school\n",
    "- distance_to_closest_primary\n",
    "- primary_school_ranking\n",
    "- closest_secondary_school\n",
    "- distance_to_closest secondary\n",
    "- secondary_school_ranking\n",
    "\n",
    "In Task2: Data reshaping\n",
    "We will study the effect ofdifferent normalization/transformation methods on the following attributes assuming that we want to build a linear model on `Price`: \n",
    "- Rooms\n",
    "- crime_C_average\n",
    "- travel_min_to_CBD\n",
    "- property_age attributes\n",
    "\n",
    "\n",
    "## 2.  Import libraries "
   ]
  },
  {
   "cell_type": "code",
   "execution_count": 1,
   "metadata": {},
   "outputs": [],
   "source": [
    "import matplotlib \n",
    "%matplotlib inline\n",
    "import shapefile\n",
    "from shapely.geometry import Point\n",
    "from shapely.geometry.polygon import Polygon\n",
    "from datetime import datetime\n",
    "import geopandas\n",
    "import pandas as pd\n",
    "import re\n",
    "from math import sin, cos, sqrt, atan2, radians\n",
    "import numpy as np\n",
    "import html\n",
    "import difflib\n",
    "from urllib.request import urlopen\n",
    "from bs4 import BeautifulSoup\n",
    "import matplotlib.pyplot as plt\n",
    "from math import sqrt, log\n",
    "from scipy.stats import pearsonr\n",
    "from sklearn import preprocessing\n",
    "from sklearn.linear_model import LinearRegression\n",
    "from sklearn.model_selection import train_test_split\n",
    "from sklearn.metrics import r2_score\n",
    "from sklearn import metrics"
   ]
  },
  {
   "cell_type": "markdown",
   "metadata": {},
   "source": [
    "<b> Examine data </b>"
   ]
  },
  {
   "cell_type": "code",
   "execution_count": 2,
   "metadata": {},
   "outputs": [
    {
     "data": {
      "text/html": [
       "<div>\n",
       "<style scoped>\n",
       "    .dataframe tbody tr th:only-of-type {\n",
       "        vertical-align: middle;\n",
       "    }\n",
       "\n",
       "    .dataframe tbody tr th {\n",
       "        vertical-align: top;\n",
       "    }\n",
       "\n",
       "    .dataframe thead th {\n",
       "        text-align: right;\n",
       "    }\n",
       "</style>\n",
       "<table border=\"1\" class=\"dataframe\">\n",
       "  <thead>\n",
       "    <tr style=\"text-align: right;\">\n",
       "      <th></th>\n",
       "      <th>ID</th>\n",
       "      <th>Address</th>\n",
       "      <th>Rooms</th>\n",
       "      <th>Type</th>\n",
       "      <th>Price</th>\n",
       "      <th>Date</th>\n",
       "      <th>Bathroom</th>\n",
       "      <th>Car</th>\n",
       "      <th>Landsize</th>\n",
       "      <th>Age</th>\n",
       "      <th>Lattitude</th>\n",
       "      <th>Longtitude</th>\n",
       "    </tr>\n",
       "  </thead>\n",
       "  <tbody>\n",
       "    <tr>\n",
       "      <th>0</th>\n",
       "      <td>ID850321692</td>\n",
       "      <td>46/121 Rathdowne St</td>\n",
       "      <td>3</td>\n",
       "      <td>u</td>\n",
       "      <td>735000.0</td>\n",
       "      <td>3/12/2016</td>\n",
       "      <td>1.0</td>\n",
       "      <td>2.0</td>\n",
       "      <td>3455.0</td>\n",
       "      <td>129.0</td>\n",
       "      <td>-37.80420</td>\n",
       "      <td>144.96910</td>\n",
       "    </tr>\n",
       "    <tr>\n",
       "      <th>1</th>\n",
       "      <td>ID658162778</td>\n",
       "      <td>6 Gray La</td>\n",
       "      <td>3</td>\n",
       "      <td>h</td>\n",
       "      <td>2035000.0</td>\n",
       "      <td>29/04/2017</td>\n",
       "      <td>1.0</td>\n",
       "      <td>1.0</td>\n",
       "      <td>185.0</td>\n",
       "      <td>129.0</td>\n",
       "      <td>-37.84350</td>\n",
       "      <td>144.95380</td>\n",
       "    </tr>\n",
       "    <tr>\n",
       "      <th>2</th>\n",
       "      <td>ID172575296</td>\n",
       "      <td>12 Borrie St</td>\n",
       "      <td>3</td>\n",
       "      <td>h</td>\n",
       "      <td>703000.0</td>\n",
       "      <td>18/06/2016</td>\n",
       "      <td>2.0</td>\n",
       "      <td>1.0</td>\n",
       "      <td>597.0</td>\n",
       "      <td>59.0</td>\n",
       "      <td>-37.70660</td>\n",
       "      <td>145.02030</td>\n",
       "    </tr>\n",
       "    <tr>\n",
       "      <th>3</th>\n",
       "      <td>ID253601222</td>\n",
       "      <td>47 Churchill Wy</td>\n",
       "      <td>3</td>\n",
       "      <td>h</td>\n",
       "      <td>710000.0</td>\n",
       "      <td>19/08/2017</td>\n",
       "      <td>1.0</td>\n",
       "      <td>2.0</td>\n",
       "      <td>837.0</td>\n",
       "      <td>59.0</td>\n",
       "      <td>-37.79682</td>\n",
       "      <td>145.30467</td>\n",
       "    </tr>\n",
       "    <tr>\n",
       "      <th>4</th>\n",
       "      <td>ID201623150</td>\n",
       "      <td>20a Park Rd</td>\n",
       "      <td>3</td>\n",
       "      <td>h</td>\n",
       "      <td>1100000.0</td>\n",
       "      <td>14/05/2016</td>\n",
       "      <td>1.0</td>\n",
       "      <td>1.0</td>\n",
       "      <td>111.0</td>\n",
       "      <td>18.0</td>\n",
       "      <td>-37.85250</td>\n",
       "      <td>145.00710</td>\n",
       "    </tr>\n",
       "  </tbody>\n",
       "</table>\n",
       "</div>"
      ],
      "text/plain": [
       "            ID              Address  Rooms Type      Price        Date  \\\n",
       "0  ID850321692  46/121 Rathdowne St      3    u   735000.0   3/12/2016   \n",
       "1  ID658162778            6 Gray La      3    h  2035000.0  29/04/2017   \n",
       "2  ID172575296         12 Borrie St      3    h   703000.0  18/06/2016   \n",
       "3  ID253601222      47 Churchill Wy      3    h   710000.0  19/08/2017   \n",
       "4  ID201623150          20a Park Rd      3    h  1100000.0  14/05/2016   \n",
       "\n",
       "   Bathroom  Car  Landsize    Age  Lattitude  Longtitude  \n",
       "0       1.0  2.0    3455.0  129.0  -37.80420   144.96910  \n",
       "1       1.0  1.0     185.0  129.0  -37.84350   144.95380  \n",
       "2       2.0  1.0     597.0   59.0  -37.70660   145.02030  \n",
       "3       1.0  2.0     837.0   59.0  -37.79682   145.30467  \n",
       "4       1.0  1.0     111.0   18.0  -37.85250   145.00710  "
      ]
     },
     "execution_count": 2,
     "metadata": {},
     "output_type": "execute_result"
    }
   ],
   "source": [
    "# read original data\n",
    "df1=pd.read_csv('Group148.csv')\n",
    "df1.head(5)"
   ]
  },
  {
   "cell_type": "code",
   "execution_count": 3,
   "metadata": {},
   "outputs": [
    {
     "data": {
      "text/plain": [
       "ID            681\n",
       "Address       681\n",
       "Rooms           7\n",
       "Type            3\n",
       "Price         416\n",
       "Date           57\n",
       "Bathroom        6\n",
       "Car             7\n",
       "Landsize      436\n",
       "Age            77\n",
       "Lattitude     643\n",
       "Longtitude    647\n",
       "dtype: int64"
      ]
     },
     "execution_count": 3,
     "metadata": {},
     "output_type": "execute_result"
    }
   ],
   "source": [
    "df1.nunique()"
   ]
  },
  {
   "cell_type": "markdown",
   "metadata": {},
   "source": [
    "There are some duplicate rows on our data.  Hence, we need to drop all duplicate rows"
   ]
  },
  {
   "cell_type": "code",
   "execution_count": 4,
   "metadata": {},
   "outputs": [],
   "source": [
    "df1=df1.drop_duplicates(subset=df1.columns,keep='first')"
   ]
  },
  {
   "cell_type": "markdown",
   "metadata": {},
   "source": [
    "<b> Suburb </b>\n",
    "\n",
    "Fristly, we read the shapefile to extract corrdinate value of each suburb by geopandas. And then, based on Lattitude and Longtitude of each house, we can define suburb of each house. "
   ]
  },
  {
   "cell_type": "code",
   "execution_count": 5,
   "metadata": {},
   "outputs": [
    {
     "data": {
      "text/html": [
       "<div>\n",
       "<style scoped>\n",
       "    .dataframe tbody tr th:only-of-type {\n",
       "        vertical-align: middle;\n",
       "    }\n",
       "\n",
       "    .dataframe tbody tr th {\n",
       "        vertical-align: top;\n",
       "    }\n",
       "\n",
       "    .dataframe thead th {\n",
       "        text-align: right;\n",
       "    }\n",
       "</style>\n",
       "<table border=\"1\" class=\"dataframe\">\n",
       "  <thead>\n",
       "    <tr style=\"text-align: right;\">\n",
       "      <th></th>\n",
       "      <th>LC_PLY_PID</th>\n",
       "      <th>DT_CREATE</th>\n",
       "      <th>DT_RETIRE</th>\n",
       "      <th>LOC_PID</th>\n",
       "      <th>VIC_LOCALI</th>\n",
       "      <th>VIC_LOCA_1</th>\n",
       "      <th>VIC_LOCA_2</th>\n",
       "      <th>VIC_LOCA_3</th>\n",
       "      <th>VIC_LOCA_4</th>\n",
       "      <th>VIC_LOCA_5</th>\n",
       "      <th>VIC_LOCA_6</th>\n",
       "      <th>VIC_LOCA_7</th>\n",
       "      <th>geometry</th>\n",
       "    </tr>\n",
       "  </thead>\n",
       "  <tbody>\n",
       "    <tr>\n",
       "      <th>0</th>\n",
       "      <td>6670</td>\n",
       "      <td>2011-08-31</td>\n",
       "      <td>None</td>\n",
       "      <td>VIC2615</td>\n",
       "      <td>2012-04-27</td>\n",
       "      <td>None</td>\n",
       "      <td>UNDERBOOL</td>\n",
       "      <td>None</td>\n",
       "      <td>None</td>\n",
       "      <td>G</td>\n",
       "      <td>None</td>\n",
       "      <td>2</td>\n",
       "      <td>POLYGON ((141.74552 -35.07229, 141.74552 -35.0...</td>\n",
       "    </tr>\n",
       "    <tr>\n",
       "      <th>1</th>\n",
       "      <td>6671</td>\n",
       "      <td>2011-08-31</td>\n",
       "      <td>None</td>\n",
       "      <td>VIC1986</td>\n",
       "      <td>2012-04-27</td>\n",
       "      <td>None</td>\n",
       "      <td>NURRAN</td>\n",
       "      <td>None</td>\n",
       "      <td>None</td>\n",
       "      <td>G</td>\n",
       "      <td>None</td>\n",
       "      <td>2</td>\n",
       "      <td>POLYGON ((148.66877 -37.39571, 148.66876 -37.3...</td>\n",
       "    </tr>\n",
       "  </tbody>\n",
       "</table>\n",
       "</div>"
      ],
      "text/plain": [
       "  LC_PLY_PID   DT_CREATE DT_RETIRE  LOC_PID  VIC_LOCALI VIC_LOCA_1 VIC_LOCA_2  \\\n",
       "0       6670  2011-08-31      None  VIC2615  2012-04-27       None  UNDERBOOL   \n",
       "1       6671  2011-08-31      None  VIC1986  2012-04-27       None     NURRAN   \n",
       "\n",
       "  VIC_LOCA_3 VIC_LOCA_4 VIC_LOCA_5 VIC_LOCA_6 VIC_LOCA_7  \\\n",
       "0       None       None          G       None          2   \n",
       "1       None       None          G       None          2   \n",
       "\n",
       "                                            geometry  \n",
       "0  POLYGON ((141.74552 -35.07229, 141.74552 -35.0...  \n",
       "1  POLYGON ((148.66877 -37.39571, 148.66876 -37.3...  "
      ]
     },
     "execution_count": 5,
     "metadata": {},
     "output_type": "execute_result"
    }
   ],
   "source": [
    "sf = geopandas.read_file(\"./VIC_LOCALITY_POLYGON_shp.shp\") \n",
    "sf.head(2)"
   ]
  },
  {
   "cell_type": "markdown",
   "metadata": {},
   "source": [
    "We can see on above dataframe that column geometry contains range of suburbs. To look for suburb of each house, firstly, we extract lat and lon into point and then use method within() to check that point in suburb or not "
   ]
  },
  {
   "cell_type": "code",
   "execution_count": 6,
   "metadata": {},
   "outputs": [],
   "source": [
    "#extract corrdinate of each house \n",
    "all_points=[ Point(point) for point in zip(df1.Longtitude,df1.Lattitude)]\n",
    "# list contains suburb\n",
    "list_sub=[]\n",
    "\n",
    "for point in all_points:\n",
    "    for geo,sub in zip(sf['geometry'],sf['VIC_LOCA_2']):\n",
    "        #if point in geo then add its corresponding suburb  \n",
    "        if point.within(geo):\n",
    "            list_sub.append(sub)     \n",
    "# adding suburb column on dataframe\n",
    "df1.insert(2, 'Suburb', list_sub)"
   ]
  },
  {
   "cell_type": "code",
   "execution_count": null,
   "metadata": {},
   "outputs": [],
   "source": []
  },
  {
   "cell_type": "markdown",
   "metadata": {},
   "source": [
    "<b> Train_station_id and distance</b>\n",
    "\n",
    "My approach here is that firstly we filter all trip that has southern cross station as one of the stops. Stop sequence of southern cross should be greater than 1 (avoid southern cross as begining stop). I will named trips here as southern trip \n",
    "\n",
    "The second step, we try to filter trips from southern trip that run on weekdays by intersection with trip from dataframe which is joining datasets from calendars and trips.  \n",
    "\n",
    "The third step, for each trip in southern trip, we removed trip that dont have any stops departure between 7:00 and 9:30.  After that, we also choose stops that departure between 7am and 9:30am and has stop sequence before stop sequence of Southern Cross station. \n",
    "\n",
    "And then, we will calculate distance of each house to all stops by Haversine formula and then we choose station that has nearest distance\n",
    "\n"
   ]
  },
  {
   "cell_type": "code",
   "execution_count": 7,
   "metadata": {},
   "outputs": [],
   "source": [
    "# Reading all dataset from data 1 and data2 since they contains information of routes,stops of train station\n",
    "stops1 = pd.read_csv('./gtfs/1/google_transit/stops.txt', sep=\",\")\n",
    "stop_times1=pd.read_csv('./gtfs/1/google_transit/stop_times.txt', sep=\",\")\n",
    "stop_times2=pd.read_csv('./gtfs/2/google_transit/stop_times.txt', sep=\",\")\n",
    "stops2 = pd.read_csv('./gtfs/2/google_transit/stops.txt', sep=\",\")\n",
    "calendar1 = pd.read_csv('./gtfs/1/google_transit/calendar.txt', sep=\",\")\n",
    "trips1=pd.read_csv('./gtfs/1/google_transit/trips.txt', sep=\",\")\n",
    "calendar2=pd.read_csv('./gtfs/2/google_transit/calendar.txt', sep=\",\")\n",
    "trips2 = pd.read_csv('./gtfs/2/google_transit/trips.txt', sep=\",\")\n",
    "\n"
   ]
  },
  {
   "cell_type": "code",
   "execution_count": 8,
   "metadata": {},
   "outputs": [],
   "source": [
    "# Extract stop_id of Southern Cross Railway\n",
    "s_id1=stops1[stops1.stop_name=='Southern Cross Railway Station (Melbourne City)'].stop_id.tolist()[0]\n",
    "s_id2=stops2[stops2.stop_name=='Southern Cross Railway Station (Melbourne City)'].stop_id.tolist()[0]\n"
   ]
  },
  {
   "cell_type": "code",
   "execution_count": 9,
   "metadata": {},
   "outputs": [],
   "source": [
    "# Extract trip run to Southern Cross\n",
    "s_trip1=stop_times1[(stop_times1.stop_id==s_id1)& (stop_times1.stop_sequence>1) ].trip_id.tolist()\n",
    "s_trip2=stop_times2[(stop_times2.stop_id==s_id2)& (stop_times2.stop_sequence>1) ].trip_id.tolist()\n"
   ]
  },
  {
   "cell_type": "code",
   "execution_count": 10,
   "metadata": {},
   "outputs": [],
   "source": [
    "# Removed all trips run on weekends\n",
    "# Joining trips and calendar dataset\n",
    "result1=pd.merge(trips1, calendar1, on='service_id')\n",
    "result2=pd.merge(trips2, calendar2, on='service_id')\n",
    "# Filter trips run only weekdays\n",
    "result1=result1[(result1.saturday==0) & (result1.sunday==0)]\n",
    "result2=result2[(result2.saturday==0) & (result2.sunday==0)]\n",
    "weekdays_trip1=result1.trip_id.tolist()\n",
    "weekdays_trip2=result2.trip_id.tolist()\n",
    "# Remove weekends trip from southern trip\n",
    "s_trip1=[i for i in s_trip1 if i in weekdays_trip1 ]\n",
    "s_trip2=[i for i in s_trip2 if i in weekdays_trip2]\n"
   ]
  },
  {
   "cell_type": "code",
   "execution_count": 11,
   "metadata": {},
   "outputs": [],
   "source": [
    "# to get stops that departure between 7:00 and 9:30\n",
    "dfstop1=stop_times1[stop_times1.trip_id.isin(s_trip1) & (stop_times1.departure_time>'07:00:00') &\\\n",
    "          (stop_times1.departure_time<'09:30:00')]\n",
    "\n",
    "dfstop2=stop_times2[stop_times2.trip_id.isin(s_trip2) & (stop_times2.departure_time>'07:00:00') &\\\n",
    "          (stop_times2.departure_time<'09:30:00') ]\n",
    "all_stops1=set(dfstop1.stop_id.tolist())\n",
    "all_stops2=set(dfstop2.stop_id.tolist())"
   ]
  },
  {
   "cell_type": "code",
   "execution_count": 12,
   "metadata": {},
   "outputs": [],
   "source": [
    "# removed all trip that dont have any stops between 7:00 and 9:30\n",
    "morning_trip1=set(dfstop1.trip_id.tolist())\n",
    "morning_trip2=set(dfstop2.trip_id.tolist())"
   ]
  },
  {
   "cell_type": "code",
   "execution_count": 13,
   "metadata": {},
   "outputs": [],
   "source": [
    "# all stops before southern cross in morning trip\n",
    "set_stops=set()\n",
    "for trip in morning_trip1:\n",
    "    # list of stopid between 7am and 9:30 in a trip \n",
    "    list1=dfstop1[dfstop1.trip_id==trip].stop_id.tolist()\n",
    "    # stop sequence of Southern Cross in that trip\n",
    "    s=stop_times1[(stop_times1.trip_id==trip) & (stop_times1.stop_id==s_id1)].stop_sequence.tolist()[0]\n",
    "    for stopid in list1:\n",
    "        # We try to remove stopid come after Southern Cross\n",
    "        # if stop sequence of stopid before stop sequence of Southern Cross, it is a appropriate stopid\n",
    "        if (dfstop1[(dfstop1.trip_id==trip) & (dfstop1.stop_id==stopid)]).stop_sequence.tolist()[0] <= s:\n",
    "            set_stops.add(stopid)\n",
    "\n",
    "            \n",
    "for trip in morning_trip2:\n",
    "    list2=dfstop2[dfstop2.trip_id==trip].stop_id.tolist()\n",
    "    s=stop_times2[(stop_times2.trip_id==trip) & (stop_times2.stop_id==s_id2)].stop_sequence.tolist()[0]\n",
    "    for stopid in list2:\n",
    "        if (dfstop2[(dfstop2.trip_id==trip) & (dfstop2.stop_id==stopid)]).stop_sequence.tolist()[0] <= s:\n",
    "            set_stops.add(stopid)\n",
    "            "
   ]
  },
  {
   "cell_type": "code",
   "execution_count": 14,
   "metadata": {},
   "outputs": [],
   "source": [
    "# dataframe that contains arrival time at Southern Cross station for each appropriate trip\n",
    "dfid1=stop_times1[stop_times1.trip_id.isin(morning_trip1) & (stop_times1.stop_id==s_id1)]\n",
    "dfid2=stop_times2[stop_times2.trip_id.isin(morning_trip2) & (stop_times2.stop_id==s_id2)]"
   ]
  },
  {
   "cell_type": "markdown",
   "metadata": {},
   "source": [
    "In here, after we get all appropriate stops id, i extract corrdinate information of all stops"
   ]
  },
  {
   "cell_type": "code",
   "execution_count": 15,
   "metadata": {},
   "outputs": [],
   "source": [
    "stops=pd.concat([stops1,stops2])\n",
    "stops= stops[stops['stop_id'].isin(set_stops)]\n",
    "# extract longtitude,lattitude and stop_id of each stop\n",
    "all_stops=[point for point in zip(stops.stop_id,stops.stop_lon,stops.stop_lat)]"
   ]
  },
  {
   "cell_type": "code",
   "execution_count": 16,
   "metadata": {},
   "outputs": [],
   "source": [
    "# extract longtitude,lattitude of all appropriate stop id\n",
    "all_points=[ point for point in zip(df1.Longtitude,df1.Lattitude)]"
   ]
  },
  {
   "cell_type": "code",
   "execution_count": 17,
   "metadata": {},
   "outputs": [],
   "source": [
    "# define the Haversine function \n",
    "def Haversine(lat1,lon1,lat2,lon2):\n",
    "    \"\"\"\n",
    "    This uses the ‘haversine’ formula to calculate the great-circle distance between two points – that is, \n",
    "    the shortest distance over the earth’s surface – giving an ‘as-the-crow-flies’ distance between the points \n",
    "    (ignoring any hills they fly over, of course!).\n",
    "    Haversine\n",
    "    formula:    a = sin²(Δφ/2) + cos φ1 ⋅ cos φ2 ⋅ sin²(Δλ/2)\n",
    "    c = 2 ⋅ atan2( √a, √(1−a) )\n",
    "    d = R ⋅ c\n",
    "    where   φ is latitude, λ is longitude, R is earth’s radius (mean radius = 6,378km);\n",
    "    note that angles need to be in radians to pass to trig functions!\n",
    "    \"\"\"\n",
    "    R = 6378\n",
    "    lat1,lon1,lat2,lon2 = map(np.radians, [lat1,lon1,lat2,lon2])\n",
    "\n",
    "    dlat = lat2 - lat1\n",
    "    dlon = lon2 - lon1\n",
    "    a = np.sin(dlat/2)**2 + np.cos(lat1) * np.cos(lat2) * np.sin(dlon/2) **2\n",
    "    c = 2 * np.arctan2(a**0.5, (1-a)**0.5)\n",
    "    d = R * c\n",
    "    return round(d,4)"
   ]
  },
  {
   "cell_type": "code",
   "execution_count": 18,
   "metadata": {},
   "outputs": [],
   "source": [
    "from math import sqrt\n",
    "#Initialise list of station_id\n",
    "station_id=[]\n",
    "# Initialise list of distance\n",
    "distance=[]\n",
    "for point in all_points:\n",
    "    # use min() to return closest value\n",
    "    station_id.append(min(all_stops,key=lambda stop:Haversine(point[1],point[0],stop[2],stop[1]) )[0])\n",
    "    distance.append(min([Haversine(point[1],point[0],stop[2],stop[1]) for stop in all_stops])*1000)\n"
   ]
  },
  {
   "cell_type": "code",
   "execution_count": 19,
   "metadata": {},
   "outputs": [],
   "source": [
    "df1['train_station_id']=station_id\n",
    "df1['distance_to_train_station']=distance"
   ]
  },
  {
   "cell_type": "markdown",
   "metadata": {},
   "source": [
    "<b>avg travel min to southern cross</b> \n",
    "\n",
    "Based on what we find on previous steps, my code here is that we extract list of trip of each station. For each trip, we calculate time between that station to southern cross station. And then, we get average values. "
   ]
  },
  {
   "cell_type": "code",
   "execution_count": 20,
   "metadata": {},
   "outputs": [],
   "source": [
    "avg_travel=[]\n",
    "for s in station_id:\n",
    "    list0=[]\n",
    "    if s in all_stops1:\n",
    "        # list of trip that pass each station \n",
    "        mtrip=dfstop1[dfstop1.stop_id==s].trip_id.tolist()\n",
    "        for trip in mtrip:\n",
    "            s1 = dfstop1[(dfstop1.stop_id==s) &(dfstop1.trip_id==trip) ].departure_time.tolist()[0]\n",
    "            s2 = dfid1[(dfid1.stop_id==s_id1) &(dfid1.trip_id==trip)].arrival_time.tolist()[0]\n",
    "            FMT = '%H:%M:%S'\n",
    "            # for each trip, if stop sequence of station before Southern cross station\n",
    "            if datetime.strptime(s2, FMT) >= datetime.strptime(s1, FMT):\n",
    "                tdelta = datetime.strptime(s2, FMT) - datetime.strptime(s1, FMT)\n",
    "                list0.append(tdelta.seconds/60)\n",
    "        avg_travel.append(sum(list0)/len(list0))\n",
    "    if s in all_stops2:\n",
    "        mtrip=dfstop2[dfstop2.stop_id==s].trip_id.tolist()\n",
    "        for trip in mtrip:\n",
    "            s1 = dfstop2[(dfstop2.stop_id==s) &(dfstop2.trip_id==trip) ].departure_time.tolist()[0]\n",
    "            s2 = dfid2[(dfid2.stop_id==s_id2) &(dfid2.trip_id==trip)].arrival_time.tolist()[0]\n",
    "            FMT = '%H:%M:%S'\n",
    "            if datetime.strptime(s2, FMT) >= datetime.strptime(s1, FMT):\n",
    "                tdelta = datetime.strptime(s2, FMT) - datetime.strptime(s1, FMT)\n",
    "                list0.append(tdelta.seconds/60)\n",
    "        avg_travel.append(sum(list0)/len(list0))\n",
    "\n",
    "    \n",
    "    "
   ]
  },
  {
   "cell_type": "code",
   "execution_count": 21,
   "metadata": {},
   "outputs": [],
   "source": [
    "df1['travel_min_to_CBD']=avg_travel"
   ]
  },
  {
   "cell_type": "markdown",
   "metadata": {},
   "source": [
    "<b>over_priced?</b>\n",
    "\n",
    "My approach here is group property by ( number of bedrooms, number of bathrooms, number of parking_space,  property_type attributes, suburb,year). Then, for each group, we calculate its median. And we convert that dataframe to dictionary with median price as value and atribute as key. Based on dictionary, we compare house's price and its median price by its atrribute   "
   ]
  },
  {
   "cell_type": "code",
   "execution_count": 22,
   "metadata": {},
   "outputs": [],
   "source": [
    "df1['Year']=[int(date[-4:]) for date in df1['Date']]"
   ]
  },
  {
   "cell_type": "code",
   "execution_count": 23,
   "metadata": {},
   "outputs": [],
   "source": [
    "dict1=df1.groupby(['Suburb','Type','Rooms','Bathroom','Car','Year']).median()['Price'].to_dict()\n",
    "overprice=[]\n",
    "for s,t,r,br,c,p,y in zip(df1.Suburb,df1.Type,df1.Rooms,df1.Bathroom,df1.Car,df1.Price,df1.Year):\n",
    "    v=(p > dict1[(s,t,r,br,c,y)])\n",
    "    overprice.append(v)\n"
   ]
  },
  {
   "cell_type": "code",
   "execution_count": 24,
   "metadata": {},
   "outputs": [],
   "source": [
    "# df1=df1.drop(columns=['Year'])\n",
    "df1['over_priced?']=overprice"
   ]
  },
  {
   "cell_type": "code",
   "execution_count": 25,
   "metadata": {},
   "outputs": [
    {
     "data": {
      "text/html": [
       "<div>\n",
       "<style scoped>\n",
       "    .dataframe tbody tr th:only-of-type {\n",
       "        vertical-align: middle;\n",
       "    }\n",
       "\n",
       "    .dataframe tbody tr th {\n",
       "        vertical-align: top;\n",
       "    }\n",
       "\n",
       "    .dataframe thead th {\n",
       "        text-align: right;\n",
       "    }\n",
       "</style>\n",
       "<table border=\"1\" class=\"dataframe\">\n",
       "  <thead>\n",
       "    <tr style=\"text-align: right;\">\n",
       "      <th></th>\n",
       "      <th>ID</th>\n",
       "      <th>Address</th>\n",
       "      <th>Suburb</th>\n",
       "      <th>Rooms</th>\n",
       "      <th>Type</th>\n",
       "      <th>Price</th>\n",
       "      <th>Date</th>\n",
       "      <th>Bathroom</th>\n",
       "      <th>Car</th>\n",
       "      <th>Landsize</th>\n",
       "      <th>Age</th>\n",
       "      <th>Lattitude</th>\n",
       "      <th>Longtitude</th>\n",
       "      <th>train_station_id</th>\n",
       "      <th>distance_to_train_station</th>\n",
       "      <th>travel_min_to_CBD</th>\n",
       "      <th>Year</th>\n",
       "      <th>over_priced?</th>\n",
       "    </tr>\n",
       "  </thead>\n",
       "  <tbody>\n",
       "    <tr>\n",
       "      <th>0</th>\n",
       "      <td>ID850321692</td>\n",
       "      <td>46/121 Rathdowne St</td>\n",
       "      <td>CARLTON</td>\n",
       "      <td>3</td>\n",
       "      <td>u</td>\n",
       "      <td>735000.0</td>\n",
       "      <td>3/12/2016</td>\n",
       "      <td>1.0</td>\n",
       "      <td>2.0</td>\n",
       "      <td>3455.0</td>\n",
       "      <td>129.0</td>\n",
       "      <td>-37.80420</td>\n",
       "      <td>144.96910</td>\n",
       "      <td>19843</td>\n",
       "      <td>833.3</td>\n",
       "      <td>6.092593</td>\n",
       "      <td>2016</td>\n",
       "      <td>False</td>\n",
       "    </tr>\n",
       "    <tr>\n",
       "      <th>1</th>\n",
       "      <td>ID658162778</td>\n",
       "      <td>6 Gray La</td>\n",
       "      <td>ALBERT PARK</td>\n",
       "      <td>3</td>\n",
       "      <td>h</td>\n",
       "      <td>2035000.0</td>\n",
       "      <td>29/04/2017</td>\n",
       "      <td>1.0</td>\n",
       "      <td>1.0</td>\n",
       "      <td>185.0</td>\n",
       "      <td>129.0</td>\n",
       "      <td>-37.84350</td>\n",
       "      <td>144.95380</td>\n",
       "      <td>20043</td>\n",
       "      <td>2803.6</td>\n",
       "      <td>0.000000</td>\n",
       "      <td>2017</td>\n",
       "      <td>False</td>\n",
       "    </tr>\n",
       "    <tr>\n",
       "      <th>2</th>\n",
       "      <td>ID172575296</td>\n",
       "      <td>12 Borrie St</td>\n",
       "      <td>RESERVOIR</td>\n",
       "      <td>3</td>\n",
       "      <td>h</td>\n",
       "      <td>703000.0</td>\n",
       "      <td>18/06/2016</td>\n",
       "      <td>2.0</td>\n",
       "      <td>1.0</td>\n",
       "      <td>597.0</td>\n",
       "      <td>59.0</td>\n",
       "      <td>-37.70660</td>\n",
       "      <td>145.02030</td>\n",
       "      <td>20009</td>\n",
       "      <td>960.6</td>\n",
       "      <td>35.142857</td>\n",
       "      <td>2016</td>\n",
       "      <td>False</td>\n",
       "    </tr>\n",
       "    <tr>\n",
       "      <th>3</th>\n",
       "      <td>ID253601222</td>\n",
       "      <td>47 Churchill Wy</td>\n",
       "      <td>KILSYTH</td>\n",
       "      <td>3</td>\n",
       "      <td>h</td>\n",
       "      <td>710000.0</td>\n",
       "      <td>19/08/2017</td>\n",
       "      <td>1.0</td>\n",
       "      <td>2.0</td>\n",
       "      <td>837.0</td>\n",
       "      <td>59.0</td>\n",
       "      <td>-37.79682</td>\n",
       "      <td>145.30467</td>\n",
       "      <td>19877</td>\n",
       "      <td>1506.1</td>\n",
       "      <td>49.769231</td>\n",
       "      <td>2017</td>\n",
       "      <td>False</td>\n",
       "    </tr>\n",
       "    <tr>\n",
       "      <th>4</th>\n",
       "      <td>ID201623150</td>\n",
       "      <td>20a Park Rd</td>\n",
       "      <td>PRAHRAN</td>\n",
       "      <td>3</td>\n",
       "      <td>h</td>\n",
       "      <td>1100000.0</td>\n",
       "      <td>14/05/2016</td>\n",
       "      <td>1.0</td>\n",
       "      <td>1.0</td>\n",
       "      <td>111.0</td>\n",
       "      <td>18.0</td>\n",
       "      <td>-37.85250</td>\n",
       "      <td>145.00710</td>\n",
       "      <td>19946</td>\n",
       "      <td>628.5</td>\n",
       "      <td>18.214286</td>\n",
       "      <td>2016</td>\n",
       "      <td>False</td>\n",
       "    </tr>\n",
       "  </tbody>\n",
       "</table>\n",
       "</div>"
      ],
      "text/plain": [
       "            ID              Address       Suburb  Rooms Type      Price  \\\n",
       "0  ID850321692  46/121 Rathdowne St      CARLTON      3    u   735000.0   \n",
       "1  ID658162778            6 Gray La  ALBERT PARK      3    h  2035000.0   \n",
       "2  ID172575296         12 Borrie St    RESERVOIR      3    h   703000.0   \n",
       "3  ID253601222      47 Churchill Wy      KILSYTH      3    h   710000.0   \n",
       "4  ID201623150          20a Park Rd      PRAHRAN      3    h  1100000.0   \n",
       "\n",
       "         Date  Bathroom  Car  Landsize    Age  Lattitude  Longtitude  \\\n",
       "0   3/12/2016       1.0  2.0    3455.0  129.0  -37.80420   144.96910   \n",
       "1  29/04/2017       1.0  1.0     185.0  129.0  -37.84350   144.95380   \n",
       "2  18/06/2016       2.0  1.0     597.0   59.0  -37.70660   145.02030   \n",
       "3  19/08/2017       1.0  2.0     837.0   59.0  -37.79682   145.30467   \n",
       "4  14/05/2016       1.0  1.0     111.0   18.0  -37.85250   145.00710   \n",
       "\n",
       "   train_station_id  distance_to_train_station  travel_min_to_CBD  Year  \\\n",
       "0             19843                      833.3           6.092593  2016   \n",
       "1             20043                     2803.6           0.000000  2017   \n",
       "2             20009                      960.6          35.142857  2016   \n",
       "3             19877                     1506.1          49.769231  2017   \n",
       "4             19946                      628.5          18.214286  2016   \n",
       "\n",
       "   over_priced?  \n",
       "0         False  \n",
       "1         False  \n",
       "2         False  \n",
       "3         False  \n",
       "4         False  "
      ]
     },
     "execution_count": 25,
     "metadata": {},
     "output_type": "execute_result"
    }
   ],
   "source": [
    "df1.head(5)"
   ]
  },
  {
   "cell_type": "markdown",
   "metadata": {},
   "source": [
    "## Crime"
   ]
  },
  {
   "cell_type": "markdown",
   "metadata": {},
   "source": [
    "In order to deal with crime average of all type, we start with opening the excel file called `'crimebylocationdatatable-yearending31march2016.xlsx` by creating a Pandas `ExcelFile` object."
   ]
  },
  {
   "cell_type": "code",
   "execution_count": 26,
   "metadata": {},
   "outputs": [
    {
     "data": {
      "text/plain": [
       "<pandas.io.excel._base.ExcelFile at 0x128f1c910>"
      ]
     },
     "execution_count": 26,
     "metadata": {},
     "output_type": "execute_result"
    }
   ],
   "source": [
    "excel_data = pd.ExcelFile('crimebylocationdatatable-yearending31march2016.xlsx')\n",
    "excel_data"
   ]
  },
  {
   "cell_type": "markdown",
   "metadata": {},
   "source": [
    "Then it might be good to view all the sheets by their names.\n",
    "So, let's check out what the names of the sheets we have in our Excel file are:"
   ]
  },
  {
   "cell_type": "code",
   "execution_count": 27,
   "metadata": {},
   "outputs": [
    {
     "data": {
      "text/plain": [
       "['Contents', 'Table 1']"
      ]
     },
     "execution_count": 27,
     "metadata": {},
     "output_type": "execute_result"
    }
   ],
   "source": [
    "#view excel sheet\n",
    "excel_data.sheet_names"
   ]
  },
  {
   "cell_type": "markdown",
   "metadata": {},
   "source": [
    "As you can see, there are two sheets in the excel data and what we need is `Tale 1`"
   ]
  },
  {
   "cell_type": "code",
   "execution_count": 28,
   "metadata": {},
   "outputs": [],
   "source": [
    "# choose table1 sheet\n",
    "df = excel_data.parse('Table 1')\n",
    "# have a look and drop all NaN\n",
    "df = df.dropna(0, how = 'all')\n",
    "df = df.dropna(1, how = 'all')\n",
    "# set the column name\n",
    "df.columns = df.iloc[1]\n",
    "# choose row from 2 onward\n",
    "df=df[2:]"
   ]
  },
  {
   "cell_type": "markdown",
   "metadata": {},
   "source": [
    "And here is the dataset after wrangling which is ready to be explored"
   ]
  },
  {
   "cell_type": "code",
   "execution_count": 29,
   "metadata": {
    "scrolled": true
   },
   "outputs": [
    {
     "data": {
      "text/html": [
       "<div>\n",
       "<style scoped>\n",
       "    .dataframe tbody tr th:only-of-type {\n",
       "        vertical-align: middle;\n",
       "    }\n",
       "\n",
       "    .dataframe tbody tr th {\n",
       "        vertical-align: top;\n",
       "    }\n",
       "\n",
       "    .dataframe thead th {\n",
       "        text-align: right;\n",
       "    }\n",
       "</style>\n",
       "<table border=\"1\" class=\"dataframe\">\n",
       "  <thead>\n",
       "    <tr style=\"text-align: right;\">\n",
       "      <th>18</th>\n",
       "      <th>Apr - Mar reference period</th>\n",
       "      <th>Police Region</th>\n",
       "      <th>Police Service Area</th>\n",
       "      <th>Local Government Area</th>\n",
       "      <th>CSA Offence Division</th>\n",
       "      <th>CSA Offence Subdivision</th>\n",
       "      <th>Offence Count</th>\n",
       "      <th>LGA ERP</th>\n",
       "      <th>Victorian ERP</th>\n",
       "    </tr>\n",
       "  </thead>\n",
       "  <tbody>\n",
       "    <tr>\n",
       "      <th>19</th>\n",
       "      <td>2012</td>\n",
       "      <td>1 North West Metro</td>\n",
       "      <td>BANYULE</td>\n",
       "      <td>BANYULE</td>\n",
       "      <td>A Crimes against the person</td>\n",
       "      <td>A10 Homicide and related offences</td>\n",
       "      <td>4</td>\n",
       "      <td>123600</td>\n",
       "      <td>5632521</td>\n",
       "    </tr>\n",
       "    <tr>\n",
       "      <th>20</th>\n",
       "      <td>2012</td>\n",
       "      <td>1 North West Metro</td>\n",
       "      <td>BANYULE</td>\n",
       "      <td>BANYULE</td>\n",
       "      <td>A Crimes against the person</td>\n",
       "      <td>A20 Assault and related offences</td>\n",
       "      <td>568</td>\n",
       "      <td>123600</td>\n",
       "      <td>5632521</td>\n",
       "    </tr>\n",
       "    <tr>\n",
       "      <th>21</th>\n",
       "      <td>2012</td>\n",
       "      <td>1 North West Metro</td>\n",
       "      <td>BANYULE</td>\n",
       "      <td>BANYULE</td>\n",
       "      <td>A Crimes against the person</td>\n",
       "      <td>A30 Sexual offences</td>\n",
       "      <td>132</td>\n",
       "      <td>123600</td>\n",
       "      <td>5632521</td>\n",
       "    </tr>\n",
       "    <tr>\n",
       "      <th>22</th>\n",
       "      <td>2012</td>\n",
       "      <td>1 North West Metro</td>\n",
       "      <td>BANYULE</td>\n",
       "      <td>BANYULE</td>\n",
       "      <td>A Crimes against the person</td>\n",
       "      <td>A40 Abduction and related offences</td>\n",
       "      <td>12</td>\n",
       "      <td>123600</td>\n",
       "      <td>5632521</td>\n",
       "    </tr>\n",
       "    <tr>\n",
       "      <th>23</th>\n",
       "      <td>2012</td>\n",
       "      <td>1 North West Metro</td>\n",
       "      <td>BANYULE</td>\n",
       "      <td>BANYULE</td>\n",
       "      <td>A Crimes against the person</td>\n",
       "      <td>A50 Robbery</td>\n",
       "      <td>46</td>\n",
       "      <td>123600</td>\n",
       "      <td>5632521</td>\n",
       "    </tr>\n",
       "  </tbody>\n",
       "</table>\n",
       "</div>"
      ],
      "text/plain": [
       "18 Apr - Mar reference period       Police Region Police Service Area  \\\n",
       "19                       2012  1 North West Metro             BANYULE   \n",
       "20                       2012  1 North West Metro             BANYULE   \n",
       "21                       2012  1 North West Metro             BANYULE   \n",
       "22                       2012  1 North West Metro             BANYULE   \n",
       "23                       2012  1 North West Metro             BANYULE   \n",
       "\n",
       "18 Local Government Area         CSA Offence Division  \\\n",
       "19               BANYULE  A Crimes against the person   \n",
       "20               BANYULE  A Crimes against the person   \n",
       "21               BANYULE  A Crimes against the person   \n",
       "22               BANYULE  A Crimes against the person   \n",
       "23               BANYULE  A Crimes against the person   \n",
       "\n",
       "18             CSA Offence Subdivision Offence Count LGA ERP Victorian ERP  \n",
       "19   A10 Homicide and related offences             4  123600       5632521  \n",
       "20    A20 Assault and related offences           568  123600       5632521  \n",
       "21                 A30 Sexual offences           132  123600       5632521  \n",
       "22  A40 Abduction and related offences            12  123600       5632521  \n",
       "23                         A50 Robbery            46  123600       5632521  "
      ]
     },
     "execution_count": 29,
     "metadata": {},
     "output_type": "execute_result"
    }
   ],
   "source": [
    "df.head(5)"
   ]
  },
  {
   "cell_type": "code",
   "execution_count": 30,
   "metadata": {},
   "outputs": [],
   "source": [
    "# reset the index\n",
    "df.reset_index(level=0, inplace= True)\n",
    "# drop old index\n",
    "df = df.drop('index', axis=1)\n",
    "# rename the columns name\n",
    "df = df.rename(columns={'CSA Offence Division': 'Crime type', 'Local Government Area': 'LGA','Apr - Mar reference period':'Year','Offence Count':'Count'})\n",
    "# segment only the column we want\n",
    "df = df[['Crime type','LGA','Year','Count']]"
   ]
  },
  {
   "cell_type": "code",
   "execution_count": 31,
   "metadata": {},
   "outputs": [
    {
     "data": {
      "text/html": [
       "<div>\n",
       "<style scoped>\n",
       "    .dataframe tbody tr th:only-of-type {\n",
       "        vertical-align: middle;\n",
       "    }\n",
       "\n",
       "    .dataframe tbody tr th {\n",
       "        vertical-align: top;\n",
       "    }\n",
       "\n",
       "    .dataframe thead th {\n",
       "        text-align: right;\n",
       "    }\n",
       "</style>\n",
       "<table border=\"1\" class=\"dataframe\">\n",
       "  <thead>\n",
       "    <tr style=\"text-align: right;\">\n",
       "      <th>18</th>\n",
       "      <th>Crime type</th>\n",
       "      <th>LGA</th>\n",
       "      <th>Year</th>\n",
       "      <th>Count</th>\n",
       "    </tr>\n",
       "  </thead>\n",
       "  <tbody>\n",
       "    <tr>\n",
       "      <th>0</th>\n",
       "      <td>A Crimes against the person</td>\n",
       "      <td>BANYULE</td>\n",
       "      <td>2012</td>\n",
       "      <td>4</td>\n",
       "    </tr>\n",
       "    <tr>\n",
       "      <th>1</th>\n",
       "      <td>A Crimes against the person</td>\n",
       "      <td>BANYULE</td>\n",
       "      <td>2012</td>\n",
       "      <td>568</td>\n",
       "    </tr>\n",
       "    <tr>\n",
       "      <th>2</th>\n",
       "      <td>A Crimes against the person</td>\n",
       "      <td>BANYULE</td>\n",
       "      <td>2012</td>\n",
       "      <td>132</td>\n",
       "    </tr>\n",
       "    <tr>\n",
       "      <th>3</th>\n",
       "      <td>A Crimes against the person</td>\n",
       "      <td>BANYULE</td>\n",
       "      <td>2012</td>\n",
       "      <td>12</td>\n",
       "    </tr>\n",
       "    <tr>\n",
       "      <th>4</th>\n",
       "      <td>A Crimes against the person</td>\n",
       "      <td>BANYULE</td>\n",
       "      <td>2012</td>\n",
       "      <td>46</td>\n",
       "    </tr>\n",
       "  </tbody>\n",
       "</table>\n",
       "</div>"
      ],
      "text/plain": [
       "18                   Crime type      LGA  Year Count\n",
       "0   A Crimes against the person  BANYULE  2012     4\n",
       "1   A Crimes against the person  BANYULE  2012   568\n",
       "2   A Crimes against the person  BANYULE  2012   132\n",
       "3   A Crimes against the person  BANYULE  2012    12\n",
       "4   A Crimes against the person  BANYULE  2012    46"
      ]
     },
     "execution_count": 31,
     "metadata": {},
     "output_type": "execute_result"
    }
   ],
   "source": [
    "df.head(5)"
   ]
  },
  {
   "cell_type": "markdown",
   "metadata": {},
   "source": [
    "Since we need the average crime of each type(A, B, C), sum all the `Count` according to `Crime type`, `LGA` or local government area and `year`"
   ]
  },
  {
   "cell_type": "code",
   "execution_count": 32,
   "metadata": {},
   "outputs": [],
   "source": [
    "df = df.groupby(['Crime type','LGA','Year']).sum()   \n",
    "df.reset_index(inplace= True)"
   ]
  },
  {
   "cell_type": "code",
   "execution_count": 33,
   "metadata": {},
   "outputs": [
    {
     "data": {
      "text/html": [
       "<div>\n",
       "<style scoped>\n",
       "    .dataframe tbody tr th:only-of-type {\n",
       "        vertical-align: middle;\n",
       "    }\n",
       "\n",
       "    .dataframe tbody tr th {\n",
       "        vertical-align: top;\n",
       "    }\n",
       "\n",
       "    .dataframe thead th {\n",
       "        text-align: right;\n",
       "    }\n",
       "</style>\n",
       "<table border=\"1\" class=\"dataframe\">\n",
       "  <thead>\n",
       "    <tr style=\"text-align: right;\">\n",
       "      <th>18</th>\n",
       "      <th>Crime type</th>\n",
       "      <th>LGA</th>\n",
       "      <th>Year</th>\n",
       "      <th>Count</th>\n",
       "    </tr>\n",
       "  </thead>\n",
       "  <tbody>\n",
       "    <tr>\n",
       "      <th>0</th>\n",
       "      <td>A Crimes against the person</td>\n",
       "      <td>ALPINE</td>\n",
       "      <td>2012</td>\n",
       "      <td>72</td>\n",
       "    </tr>\n",
       "    <tr>\n",
       "      <th>1</th>\n",
       "      <td>A Crimes against the person</td>\n",
       "      <td>ALPINE</td>\n",
       "      <td>2013</td>\n",
       "      <td>78</td>\n",
       "    </tr>\n",
       "    <tr>\n",
       "      <th>2</th>\n",
       "      <td>A Crimes against the person</td>\n",
       "      <td>ALPINE</td>\n",
       "      <td>2014</td>\n",
       "      <td>85</td>\n",
       "    </tr>\n",
       "    <tr>\n",
       "      <th>3</th>\n",
       "      <td>A Crimes against the person</td>\n",
       "      <td>ALPINE</td>\n",
       "      <td>2015</td>\n",
       "      <td>99</td>\n",
       "    </tr>\n",
       "    <tr>\n",
       "      <th>4</th>\n",
       "      <td>A Crimes against the person</td>\n",
       "      <td>ALPINE</td>\n",
       "      <td>2016</td>\n",
       "      <td>93</td>\n",
       "    </tr>\n",
       "  </tbody>\n",
       "</table>\n",
       "</div>"
      ],
      "text/plain": [
       "18                   Crime type     LGA  Year  Count\n",
       "0   A Crimes against the person  ALPINE  2012     72\n",
       "1   A Crimes against the person  ALPINE  2013     78\n",
       "2   A Crimes against the person  ALPINE  2014     85\n",
       "3   A Crimes against the person  ALPINE  2015     99\n",
       "4   A Crimes against the person  ALPINE  2016     93"
      ]
     },
     "execution_count": 33,
     "metadata": {},
     "output_type": "execute_result"
    }
   ],
   "source": [
    "df.head(5)"
   ]
  },
  {
   "cell_type": "markdown",
   "metadata": {},
   "source": [
    "Find the average in the three years prior to selling the property as the property. For example, if a property is sold in 2016, then you should calculate the average of the crime type A for 2013, 2014 and 2015.\n",
    "In this case, the concept of `'Moving Average'` will be applied and we use `dataframe.rolling()` function provides the feature of rolling window calculations setting `min_periods` as 3 since we need three year of calculation."
   ]
  },
  {
   "cell_type": "code",
   "execution_count": 34,
   "metadata": {},
   "outputs": [],
   "source": [
    "df['Average'] =df.groupby(['Crime type','LGA']).Count.apply(lambda x: x.rolling(3,min_periods=3).mean())"
   ]
  },
  {
   "cell_type": "code",
   "execution_count": 35,
   "metadata": {
    "scrolled": true
   },
   "outputs": [
    {
     "data": {
      "text/html": [
       "<div>\n",
       "<style scoped>\n",
       "    .dataframe tbody tr th:only-of-type {\n",
       "        vertical-align: middle;\n",
       "    }\n",
       "\n",
       "    .dataframe tbody tr th {\n",
       "        vertical-align: top;\n",
       "    }\n",
       "\n",
       "    .dataframe thead th {\n",
       "        text-align: right;\n",
       "    }\n",
       "</style>\n",
       "<table border=\"1\" class=\"dataframe\">\n",
       "  <thead>\n",
       "    <tr style=\"text-align: right;\">\n",
       "      <th>18</th>\n",
       "      <th>Crime type</th>\n",
       "      <th>LGA</th>\n",
       "      <th>Year</th>\n",
       "      <th>Count</th>\n",
       "      <th>Average</th>\n",
       "    </tr>\n",
       "  </thead>\n",
       "  <tbody>\n",
       "    <tr>\n",
       "      <th>0</th>\n",
       "      <td>A Crimes against the person</td>\n",
       "      <td>ALPINE</td>\n",
       "      <td>2012</td>\n",
       "      <td>72</td>\n",
       "      <td>NaN</td>\n",
       "    </tr>\n",
       "    <tr>\n",
       "      <th>1</th>\n",
       "      <td>A Crimes against the person</td>\n",
       "      <td>ALPINE</td>\n",
       "      <td>2013</td>\n",
       "      <td>78</td>\n",
       "      <td>NaN</td>\n",
       "    </tr>\n",
       "    <tr>\n",
       "      <th>2</th>\n",
       "      <td>A Crimes against the person</td>\n",
       "      <td>ALPINE</td>\n",
       "      <td>2014</td>\n",
       "      <td>85</td>\n",
       "      <td>78.333333</td>\n",
       "    </tr>\n",
       "    <tr>\n",
       "      <th>3</th>\n",
       "      <td>A Crimes against the person</td>\n",
       "      <td>ALPINE</td>\n",
       "      <td>2015</td>\n",
       "      <td>99</td>\n",
       "      <td>87.333333</td>\n",
       "    </tr>\n",
       "    <tr>\n",
       "      <th>4</th>\n",
       "      <td>A Crimes against the person</td>\n",
       "      <td>ALPINE</td>\n",
       "      <td>2016</td>\n",
       "      <td>93</td>\n",
       "      <td>92.333333</td>\n",
       "    </tr>\n",
       "  </tbody>\n",
       "</table>\n",
       "</div>"
      ],
      "text/plain": [
       "18                   Crime type     LGA  Year  Count    Average\n",
       "0   A Crimes against the person  ALPINE  2012     72        NaN\n",
       "1   A Crimes against the person  ALPINE  2013     78        NaN\n",
       "2   A Crimes against the person  ALPINE  2014     85  78.333333\n",
       "3   A Crimes against the person  ALPINE  2015     99  87.333333\n",
       "4   A Crimes against the person  ALPINE  2016     93  92.333333"
      ]
     },
     "execution_count": 35,
     "metadata": {},
     "output_type": "execute_result"
    }
   ],
   "source": [
    "df.head(5)"
   ]
  },
  {
   "cell_type": "markdown",
   "metadata": {},
   "source": [
    "After getting the overall average, we will separate the crime type for each column. Starting with A, B and C respectively\n",
    "### Crime A average"
   ]
  },
  {
   "cell_type": "code",
   "execution_count": 36,
   "metadata": {},
   "outputs": [],
   "source": [
    "# select only crime A\n",
    "crime_a = df[df[\"Crime type\"].str.startswith(\"A\")]\n",
    "# rename the column\n",
    "crime_a = crime_a.rename(columns={'Average':'crime_A_average'})\n",
    "# choose only year 2016 and 2017 result\n",
    "crime_a = crime_a.loc[(crime_a['Year'] == 2015) | (crime_a['Year'] == 2016)][['LGA','Year','crime_A_average']]\n",
    "# change year for understanding \n",
    "crime_a.loc[(crime_a['Year'] == 2016),'Year']=2017\n",
    "crime_a.loc[(crime_a['Year'] == 2015),'Year']=2016\n",
    "# reset index\n",
    "crime_a.reset_index(level=0, inplace= True)\n",
    "# drop old index\n",
    "crime_a = crime_a.drop('index', axis=1)"
   ]
  },
  {
   "cell_type": "code",
   "execution_count": 37,
   "metadata": {
    "scrolled": true
   },
   "outputs": [
    {
     "data": {
      "text/html": [
       "<div>\n",
       "<style scoped>\n",
       "    .dataframe tbody tr th:only-of-type {\n",
       "        vertical-align: middle;\n",
       "    }\n",
       "\n",
       "    .dataframe tbody tr th {\n",
       "        vertical-align: top;\n",
       "    }\n",
       "\n",
       "    .dataframe thead th {\n",
       "        text-align: right;\n",
       "    }\n",
       "</style>\n",
       "<table border=\"1\" class=\"dataframe\">\n",
       "  <thead>\n",
       "    <tr style=\"text-align: right;\">\n",
       "      <th>18</th>\n",
       "      <th>LGA</th>\n",
       "      <th>Year</th>\n",
       "      <th>crime_A_average</th>\n",
       "    </tr>\n",
       "  </thead>\n",
       "  <tbody>\n",
       "    <tr>\n",
       "      <th>0</th>\n",
       "      <td>ALPINE</td>\n",
       "      <td>2016</td>\n",
       "      <td>87.333333</td>\n",
       "    </tr>\n",
       "    <tr>\n",
       "      <th>1</th>\n",
       "      <td>ALPINE</td>\n",
       "      <td>2017</td>\n",
       "      <td>92.333333</td>\n",
       "    </tr>\n",
       "    <tr>\n",
       "      <th>2</th>\n",
       "      <td>ARARAT</td>\n",
       "      <td>2016</td>\n",
       "      <td>305.000000</td>\n",
       "    </tr>\n",
       "    <tr>\n",
       "      <th>3</th>\n",
       "      <td>ARARAT</td>\n",
       "      <td>2017</td>\n",
       "      <td>318.333333</td>\n",
       "    </tr>\n",
       "    <tr>\n",
       "      <th>4</th>\n",
       "      <td>BALLARAT</td>\n",
       "      <td>2016</td>\n",
       "      <td>1628.333333</td>\n",
       "    </tr>\n",
       "  </tbody>\n",
       "</table>\n",
       "</div>"
      ],
      "text/plain": [
       "18       LGA  Year  crime_A_average\n",
       "0     ALPINE  2016        87.333333\n",
       "1     ALPINE  2017        92.333333\n",
       "2     ARARAT  2016       305.000000\n",
       "3     ARARAT  2017       318.333333\n",
       "4   BALLARAT  2016      1628.333333"
      ]
     },
     "execution_count": 37,
     "metadata": {},
     "output_type": "execute_result"
    }
   ],
   "source": [
    "crime_a.head(5)"
   ]
  },
  {
   "cell_type": "markdown",
   "metadata": {},
   "source": [
    "### Crime B average"
   ]
  },
  {
   "cell_type": "code",
   "execution_count": 38,
   "metadata": {},
   "outputs": [],
   "source": [
    "# select only crime B\n",
    "crime_b = df[df[\"Crime type\"].str.startswith(\"B\")]\n",
    "# rename the column\n",
    "crime_b = crime_b.rename(columns={'Average':'crime_B_average'})\n",
    "# choose only year 2016 and 2017 result\n",
    "crime_b = crime_b.loc[(crime_b['Year'] == 2015) | (crime_b['Year'] == 2016)][['LGA','Year','crime_B_average']]\n",
    "# change year for understanding \n",
    "crime_b.loc[(crime_b['Year'] == 2016),'Year']=2017\n",
    "crime_b.loc[(crime_b['Year'] == 2015),'Year']=2016\n",
    "# reset index\n",
    "crime_b.reset_index(level=0, inplace= True)\n",
    "# drop old index\n",
    "crime_b = crime_b.drop('index', axis=1)"
   ]
  },
  {
   "cell_type": "markdown",
   "metadata": {},
   "source": [
    "### Crime C average"
   ]
  },
  {
   "cell_type": "code",
   "execution_count": 39,
   "metadata": {},
   "outputs": [],
   "source": [
    "# select only crime C\n",
    "crime_c = df[df[\"Crime type\"].str.startswith(\"C\")]\n",
    "# rename the column\n",
    "crime_c = crime_c.rename(columns={'Average':'crime_C_average'})\n",
    "# choose only year 2016 and 2017 result\n",
    "crime_c = crime_c.loc[(crime_c['Year'] == 2015) | (crime_c['Year'] == 2016)][['LGA','Year','crime_C_average']]\n",
    "# change year for understanding\n",
    "crime_c.loc[(crime_c['Year'] == 2016),'Year']=2017\n",
    "crime_c.loc[(crime_c['Year'] == 2015),'Year']=2016\n",
    "# reset index\n",
    "crime_c.reset_index(level=0, inplace= True)\n",
    "# drop old index\n",
    "crime_c = crime_c.drop('index', axis=1)"
   ]
  },
  {
   "cell_type": "markdown",
   "metadata": {},
   "source": [
    "Next when the data of each local government is ready, we will map Suburb to its LGA from the file called `councils.txt` since we want the crime rate to be in each suburb."
   ]
  },
  {
   "cell_type": "code",
   "execution_count": 40,
   "metadata": {},
   "outputs": [],
   "source": [
    "# create empty dict\n",
    "councils = {}\n",
    "# open the file and wrangling\n",
    "with open('councils.txt','r') as infile:\n",
    "    for line in infile:\n",
    "        line = re.sub(r'[\\'\\[\\]\\n]','',line)\n",
    "        line = re.split(r'[,:]+', line)\n",
    "        line = [x.strip() for x in line]\n",
    "        line = [x.upper() for x in line]\n",
    "        councils[line[0]] = line[1:]\n",
    "# map each suburb to its LGA\n",
    "d = {k: oldk for oldk, oldv in councils.items() for k in oldv}"
   ]
  },
  {
   "cell_type": "markdown",
   "metadata": {},
   "source": [
    "Add the LGA column to our dataset"
   ]
  },
  {
   "cell_type": "code",
   "execution_count": 41,
   "metadata": {
    "scrolled": true
   },
   "outputs": [],
   "source": [
    "df1['LGA'] = df1['Suburb'].map(d)"
   ]
  },
  {
   "cell_type": "code",
   "execution_count": 42,
   "metadata": {},
   "outputs": [
    {
     "data": {
      "text/html": [
       "<div>\n",
       "<style scoped>\n",
       "    .dataframe tbody tr th:only-of-type {\n",
       "        vertical-align: middle;\n",
       "    }\n",
       "\n",
       "    .dataframe tbody tr th {\n",
       "        vertical-align: top;\n",
       "    }\n",
       "\n",
       "    .dataframe thead th {\n",
       "        text-align: right;\n",
       "    }\n",
       "</style>\n",
       "<table border=\"1\" class=\"dataframe\">\n",
       "  <thead>\n",
       "    <tr style=\"text-align: right;\">\n",
       "      <th></th>\n",
       "      <th>ID</th>\n",
       "      <th>Address</th>\n",
       "      <th>Suburb</th>\n",
       "      <th>Rooms</th>\n",
       "      <th>Type</th>\n",
       "      <th>Price</th>\n",
       "      <th>Date</th>\n",
       "      <th>Bathroom</th>\n",
       "      <th>Car</th>\n",
       "      <th>Landsize</th>\n",
       "      <th>Age</th>\n",
       "      <th>Lattitude</th>\n",
       "      <th>Longtitude</th>\n",
       "      <th>train_station_id</th>\n",
       "      <th>distance_to_train_station</th>\n",
       "      <th>travel_min_to_CBD</th>\n",
       "      <th>Year</th>\n",
       "      <th>over_priced?</th>\n",
       "      <th>LGA</th>\n",
       "    </tr>\n",
       "  </thead>\n",
       "  <tbody>\n",
       "    <tr>\n",
       "      <th>0</th>\n",
       "      <td>ID850321692</td>\n",
       "      <td>46/121 Rathdowne St</td>\n",
       "      <td>CARLTON</td>\n",
       "      <td>3</td>\n",
       "      <td>u</td>\n",
       "      <td>735000.0</td>\n",
       "      <td>3/12/2016</td>\n",
       "      <td>1.0</td>\n",
       "      <td>2.0</td>\n",
       "      <td>3455.0</td>\n",
       "      <td>129.0</td>\n",
       "      <td>-37.80420</td>\n",
       "      <td>144.96910</td>\n",
       "      <td>19843</td>\n",
       "      <td>833.3</td>\n",
       "      <td>6.092593</td>\n",
       "      <td>2016</td>\n",
       "      <td>False</td>\n",
       "      <td>STRATHBOGIE</td>\n",
       "    </tr>\n",
       "    <tr>\n",
       "      <th>1</th>\n",
       "      <td>ID658162778</td>\n",
       "      <td>6 Gray La</td>\n",
       "      <td>ALBERT PARK</td>\n",
       "      <td>3</td>\n",
       "      <td>h</td>\n",
       "      <td>2035000.0</td>\n",
       "      <td>29/04/2017</td>\n",
       "      <td>1.0</td>\n",
       "      <td>1.0</td>\n",
       "      <td>185.0</td>\n",
       "      <td>129.0</td>\n",
       "      <td>-37.84350</td>\n",
       "      <td>144.95380</td>\n",
       "      <td>20043</td>\n",
       "      <td>2803.6</td>\n",
       "      <td>0.000000</td>\n",
       "      <td>2017</td>\n",
       "      <td>False</td>\n",
       "      <td>BANYULE</td>\n",
       "    </tr>\n",
       "    <tr>\n",
       "      <th>2</th>\n",
       "      <td>ID172575296</td>\n",
       "      <td>12 Borrie St</td>\n",
       "      <td>RESERVOIR</td>\n",
       "      <td>3</td>\n",
       "      <td>h</td>\n",
       "      <td>703000.0</td>\n",
       "      <td>18/06/2016</td>\n",
       "      <td>2.0</td>\n",
       "      <td>1.0</td>\n",
       "      <td>597.0</td>\n",
       "      <td>59.0</td>\n",
       "      <td>-37.70660</td>\n",
       "      <td>145.02030</td>\n",
       "      <td>20009</td>\n",
       "      <td>960.6</td>\n",
       "      <td>35.142857</td>\n",
       "      <td>2016</td>\n",
       "      <td>False</td>\n",
       "      <td>EAST GIPPSLAND</td>\n",
       "    </tr>\n",
       "    <tr>\n",
       "      <th>3</th>\n",
       "      <td>ID253601222</td>\n",
       "      <td>47 Churchill Wy</td>\n",
       "      <td>KILSYTH</td>\n",
       "      <td>3</td>\n",
       "      <td>h</td>\n",
       "      <td>710000.0</td>\n",
       "      <td>19/08/2017</td>\n",
       "      <td>1.0</td>\n",
       "      <td>2.0</td>\n",
       "      <td>837.0</td>\n",
       "      <td>59.0</td>\n",
       "      <td>-37.79682</td>\n",
       "      <td>145.30467</td>\n",
       "      <td>19877</td>\n",
       "      <td>1506.1</td>\n",
       "      <td>49.769231</td>\n",
       "      <td>2017</td>\n",
       "      <td>False</td>\n",
       "      <td>SURF COAST</td>\n",
       "    </tr>\n",
       "    <tr>\n",
       "      <th>4</th>\n",
       "      <td>ID201623150</td>\n",
       "      <td>20a Park Rd</td>\n",
       "      <td>PRAHRAN</td>\n",
       "      <td>3</td>\n",
       "      <td>h</td>\n",
       "      <td>1100000.0</td>\n",
       "      <td>14/05/2016</td>\n",
       "      <td>1.0</td>\n",
       "      <td>1.0</td>\n",
       "      <td>111.0</td>\n",
       "      <td>18.0</td>\n",
       "      <td>-37.85250</td>\n",
       "      <td>145.00710</td>\n",
       "      <td>19946</td>\n",
       "      <td>628.5</td>\n",
       "      <td>18.214286</td>\n",
       "      <td>2016</td>\n",
       "      <td>False</td>\n",
       "      <td>BOROONDARA</td>\n",
       "    </tr>\n",
       "  </tbody>\n",
       "</table>\n",
       "</div>"
      ],
      "text/plain": [
       "            ID              Address       Suburb  Rooms Type      Price  \\\n",
       "0  ID850321692  46/121 Rathdowne St      CARLTON      3    u   735000.0   \n",
       "1  ID658162778            6 Gray La  ALBERT PARK      3    h  2035000.0   \n",
       "2  ID172575296         12 Borrie St    RESERVOIR      3    h   703000.0   \n",
       "3  ID253601222      47 Churchill Wy      KILSYTH      3    h   710000.0   \n",
       "4  ID201623150          20a Park Rd      PRAHRAN      3    h  1100000.0   \n",
       "\n",
       "         Date  Bathroom  Car  Landsize    Age  Lattitude  Longtitude  \\\n",
       "0   3/12/2016       1.0  2.0    3455.0  129.0  -37.80420   144.96910   \n",
       "1  29/04/2017       1.0  1.0     185.0  129.0  -37.84350   144.95380   \n",
       "2  18/06/2016       2.0  1.0     597.0   59.0  -37.70660   145.02030   \n",
       "3  19/08/2017       1.0  2.0     837.0   59.0  -37.79682   145.30467   \n",
       "4  14/05/2016       1.0  1.0     111.0   18.0  -37.85250   145.00710   \n",
       "\n",
       "   train_station_id  distance_to_train_station  travel_min_to_CBD  Year  \\\n",
       "0             19843                      833.3           6.092593  2016   \n",
       "1             20043                     2803.6           0.000000  2017   \n",
       "2             20009                      960.6          35.142857  2016   \n",
       "3             19877                     1506.1          49.769231  2017   \n",
       "4             19946                      628.5          18.214286  2016   \n",
       "\n",
       "   over_priced?             LGA  \n",
       "0         False     STRATHBOGIE  \n",
       "1         False         BANYULE  \n",
       "2         False  EAST GIPPSLAND  \n",
       "3         False      SURF COAST  \n",
       "4         False      BOROONDARA  "
      ]
     },
     "execution_count": 42,
     "metadata": {},
     "output_type": "execute_result"
    }
   ],
   "source": [
    "df1.head(5)"
   ]
  },
  {
   "cell_type": "markdown",
   "metadata": {},
   "source": [
    "Now match LGA and year to the crime rate"
   ]
  },
  {
   "cell_type": "code",
   "execution_count": 43,
   "metadata": {},
   "outputs": [],
   "source": [
    "df1 = pd.merge(df1, crime_a, how = 'left', on = ['LGA','Year'])"
   ]
  },
  {
   "cell_type": "code",
   "execution_count": 44,
   "metadata": {},
   "outputs": [],
   "source": [
    "df1 = pd.merge(df1, crime_b, how = 'left', on = ['LGA','Year'] )"
   ]
  },
  {
   "cell_type": "code",
   "execution_count": 45,
   "metadata": {},
   "outputs": [],
   "source": [
    "df1 = pd.merge(df1, crime_c, how = 'left', on = ['LGA','Year']).drop(columns=['LGA', 'Year'])"
   ]
  },
  {
   "cell_type": "code",
   "execution_count": 46,
   "metadata": {},
   "outputs": [
    {
     "data": {
      "text/html": [
       "<div>\n",
       "<style scoped>\n",
       "    .dataframe tbody tr th:only-of-type {\n",
       "        vertical-align: middle;\n",
       "    }\n",
       "\n",
       "    .dataframe tbody tr th {\n",
       "        vertical-align: top;\n",
       "    }\n",
       "\n",
       "    .dataframe thead th {\n",
       "        text-align: right;\n",
       "    }\n",
       "</style>\n",
       "<table border=\"1\" class=\"dataframe\">\n",
       "  <thead>\n",
       "    <tr style=\"text-align: right;\">\n",
       "      <th></th>\n",
       "      <th>ID</th>\n",
       "      <th>Address</th>\n",
       "      <th>Suburb</th>\n",
       "      <th>Rooms</th>\n",
       "      <th>Type</th>\n",
       "      <th>Price</th>\n",
       "      <th>Date</th>\n",
       "      <th>Bathroom</th>\n",
       "      <th>Car</th>\n",
       "      <th>Landsize</th>\n",
       "      <th>Age</th>\n",
       "      <th>Lattitude</th>\n",
       "      <th>Longtitude</th>\n",
       "      <th>train_station_id</th>\n",
       "      <th>distance_to_train_station</th>\n",
       "      <th>travel_min_to_CBD</th>\n",
       "      <th>over_priced?</th>\n",
       "      <th>crime_A_average</th>\n",
       "      <th>crime_B_average</th>\n",
       "      <th>crime_C_average</th>\n",
       "    </tr>\n",
       "  </thead>\n",
       "  <tbody>\n",
       "    <tr>\n",
       "      <th>0</th>\n",
       "      <td>ID850321692</td>\n",
       "      <td>46/121 Rathdowne St</td>\n",
       "      <td>CARLTON</td>\n",
       "      <td>3</td>\n",
       "      <td>u</td>\n",
       "      <td>735000.0</td>\n",
       "      <td>3/12/2016</td>\n",
       "      <td>1.0</td>\n",
       "      <td>2.0</td>\n",
       "      <td>3455.0</td>\n",
       "      <td>129.0</td>\n",
       "      <td>-37.80420</td>\n",
       "      <td>144.96910</td>\n",
       "      <td>19843</td>\n",
       "      <td>833.3</td>\n",
       "      <td>6.092593</td>\n",
       "      <td>False</td>\n",
       "      <td>97.666667</td>\n",
       "      <td>243.000000</td>\n",
       "      <td>33.000000</td>\n",
       "    </tr>\n",
       "    <tr>\n",
       "      <th>1</th>\n",
       "      <td>ID658162778</td>\n",
       "      <td>6 Gray La</td>\n",
       "      <td>ALBERT PARK</td>\n",
       "      <td>3</td>\n",
       "      <td>h</td>\n",
       "      <td>2035000.0</td>\n",
       "      <td>29/04/2017</td>\n",
       "      <td>1.0</td>\n",
       "      <td>1.0</td>\n",
       "      <td>185.0</td>\n",
       "      <td>129.0</td>\n",
       "      <td>-37.84350</td>\n",
       "      <td>144.95380</td>\n",
       "      <td>20043</td>\n",
       "      <td>2803.6</td>\n",
       "      <td>0.000000</td>\n",
       "      <td>False</td>\n",
       "      <td>1214.666667</td>\n",
       "      <td>5603.666667</td>\n",
       "      <td>375.333333</td>\n",
       "    </tr>\n",
       "    <tr>\n",
       "      <th>2</th>\n",
       "      <td>ID172575296</td>\n",
       "      <td>12 Borrie St</td>\n",
       "      <td>RESERVOIR</td>\n",
       "      <td>3</td>\n",
       "      <td>h</td>\n",
       "      <td>703000.0</td>\n",
       "      <td>18/06/2016</td>\n",
       "      <td>2.0</td>\n",
       "      <td>1.0</td>\n",
       "      <td>597.0</td>\n",
       "      <td>59.0</td>\n",
       "      <td>-37.70660</td>\n",
       "      <td>145.02030</td>\n",
       "      <td>20009</td>\n",
       "      <td>960.6</td>\n",
       "      <td>35.142857</td>\n",
       "      <td>False</td>\n",
       "      <td>824.666667</td>\n",
       "      <td>1890.333333</td>\n",
       "      <td>159.333333</td>\n",
       "    </tr>\n",
       "    <tr>\n",
       "      <th>3</th>\n",
       "      <td>ID253601222</td>\n",
       "      <td>47 Churchill Wy</td>\n",
       "      <td>KILSYTH</td>\n",
       "      <td>3</td>\n",
       "      <td>h</td>\n",
       "      <td>710000.0</td>\n",
       "      <td>19/08/2017</td>\n",
       "      <td>1.0</td>\n",
       "      <td>2.0</td>\n",
       "      <td>837.0</td>\n",
       "      <td>59.0</td>\n",
       "      <td>-37.79682</td>\n",
       "      <td>145.30467</td>\n",
       "      <td>19877</td>\n",
       "      <td>1506.1</td>\n",
       "      <td>49.769231</td>\n",
       "      <td>False</td>\n",
       "      <td>164.666667</td>\n",
       "      <td>943.000000</td>\n",
       "      <td>50.666667</td>\n",
       "    </tr>\n",
       "    <tr>\n",
       "      <th>4</th>\n",
       "      <td>ID201623150</td>\n",
       "      <td>20a Park Rd</td>\n",
       "      <td>PRAHRAN</td>\n",
       "      <td>3</td>\n",
       "      <td>h</td>\n",
       "      <td>1100000.0</td>\n",
       "      <td>14/05/2016</td>\n",
       "      <td>1.0</td>\n",
       "      <td>1.0</td>\n",
       "      <td>111.0</td>\n",
       "      <td>18.0</td>\n",
       "      <td>-37.85250</td>\n",
       "      <td>145.00710</td>\n",
       "      <td>19946</td>\n",
       "      <td>628.5</td>\n",
       "      <td>18.214286</td>\n",
       "      <td>False</td>\n",
       "      <td>659.000000</td>\n",
       "      <td>5219.333333</td>\n",
       "      <td>338.333333</td>\n",
       "    </tr>\n",
       "  </tbody>\n",
       "</table>\n",
       "</div>"
      ],
      "text/plain": [
       "            ID              Address       Suburb  Rooms Type      Price  \\\n",
       "0  ID850321692  46/121 Rathdowne St      CARLTON      3    u   735000.0   \n",
       "1  ID658162778            6 Gray La  ALBERT PARK      3    h  2035000.0   \n",
       "2  ID172575296         12 Borrie St    RESERVOIR      3    h   703000.0   \n",
       "3  ID253601222      47 Churchill Wy      KILSYTH      3    h   710000.0   \n",
       "4  ID201623150          20a Park Rd      PRAHRAN      3    h  1100000.0   \n",
       "\n",
       "         Date  Bathroom  Car  Landsize    Age  Lattitude  Longtitude  \\\n",
       "0   3/12/2016       1.0  2.0    3455.0  129.0  -37.80420   144.96910   \n",
       "1  29/04/2017       1.0  1.0     185.0  129.0  -37.84350   144.95380   \n",
       "2  18/06/2016       2.0  1.0     597.0   59.0  -37.70660   145.02030   \n",
       "3  19/08/2017       1.0  2.0     837.0   59.0  -37.79682   145.30467   \n",
       "4  14/05/2016       1.0  1.0     111.0   18.0  -37.85250   145.00710   \n",
       "\n",
       "   train_station_id  distance_to_train_station  travel_min_to_CBD  \\\n",
       "0             19843                      833.3           6.092593   \n",
       "1             20043                     2803.6           0.000000   \n",
       "2             20009                      960.6          35.142857   \n",
       "3             19877                     1506.1          49.769231   \n",
       "4             19946                      628.5          18.214286   \n",
       "\n",
       "   over_priced?  crime_A_average  crime_B_average  crime_C_average  \n",
       "0         False        97.666667       243.000000        33.000000  \n",
       "1         False      1214.666667      5603.666667       375.333333  \n",
       "2         False       824.666667      1890.333333       159.333333  \n",
       "3         False       164.666667       943.000000        50.666667  \n",
       "4         False       659.000000      5219.333333       338.333333  "
      ]
     },
     "execution_count": 46,
     "metadata": {},
     "output_type": "execute_result"
    }
   ],
   "source": [
    "df1.head(5)"
   ]
  },
  {
   "cell_type": "markdown",
   "metadata": {},
   "source": [
    "<b>primary school name, distance, ranking </b>\n",
    "\n",
    "At first step, we will extract information of all schools in xml file. After that, we have name,lon,lat for each of them.\n",
    "\n",
    "Based school location, we will calculate distance between schools to each house (by Haversine formula) and then we choose the school that has the closest one\n",
    "\n",
    "At the last step, we read data about school ranking in website into dictionary with name as key and ranking as value. By accessing by name of school, we has value of ranking."
   ]
  },
  {
   "cell_type": "code",
   "execution_count": 47,
   "metadata": {},
   "outputs": [
    {
     "data": {
      "text/plain": [
       "['<?xml version=\"1.0\" encoding=\"UTF-8\"?>\\n',\n",
       " '<schools>\\n',\n",
       " '  <school>\\n',\n",
       " '    <Education_Sector>Government</Education_Sector>\\n',\n",
       " '    <Entity_Type>1</Entity_Type>\\n',\n",
       " '    <School_No>1</School_No>\\n',\n",
       " '    <School_Name>Alberton Primary School</School_Name>\\n',\n",
       " '    <School_Type>Primary</School_Type>\\n',\n",
       " '    <Address_Line_1>21 Thomson Street</Address_Line_1>\\n',\n",
       " '    <Address_Line_2></Address_Line_2>\\n',\n",
       " '    <Address_State>VIC</Address_State>\\n',\n",
       " '    <Postal_Address_Line_1>21 Thomson Street</Postal_Address_Line_1>\\n',\n",
       " '    <Postal_Address_Line_2></Postal_Address_Line_2>\\n',\n",
       " '    <Full_Phone_No>03 5183 2412</Full_Phone_No>\\n',\n",
       " '    <LGA_ID>681</LGA_ID>\\n',\n",
       " '    <LGA_Name>Wellington (S)</LGA_Name>\\n',\n",
       " '    <X>146.666601</X>\\n',\n",
       " '    <Y>-38.617713</Y>\\n',\n",
       " '  </school>\\n',\n",
       " '  <school>\\n']"
      ]
     },
     "execution_count": 47,
     "metadata": {},
     "output_type": "execute_result"
    }
   ],
   "source": [
    "#read data\n",
    "open('schools.xml').readlines()[0:20]"
   ]
  },
  {
   "cell_type": "markdown",
   "metadata": {},
   "source": [
    "In this stage, we will try to convert this xml file to data frame "
   ]
  },
  {
   "cell_type": "code",
   "execution_count": 48,
   "metadata": {},
   "outputs": [],
   "source": [
    "import xml.etree.ElementTree as et\n",
    "\n",
    "def parse_XML(xml_file, df_cols): \n",
    "    \"\"\"Parse the input XML file and store the result in a pandas \n",
    "    DataFrame with the given columns. \n",
    "    \n",
    "    The first element of df_cols is supposed to be the identifier \n",
    "    variable, which is an attribute of each node element in the \n",
    "    XML data; other features will be parsed from the text content \n",
    "    of each sub-element. \n",
    "    \"\"\"\n",
    "    \n",
    "    xtree = et.parse(xml_file)\n",
    "    xroot = xtree.getroot()\n",
    "    rows = []\n",
    "    \n",
    "    for node in xroot: \n",
    "        res = []\n",
    "        res.append(node.attrib.get(df_cols[0]))\n",
    "        for el in df_cols[1:]: \n",
    "            if node is not None and node.find(el) is not None:\n",
    "                res.append(node.find(el).text)\n",
    "            else: \n",
    "                res.append(None)\n",
    "        rows.append({df_cols[i]: res[i] \n",
    "                     for i, _ in enumerate(df_cols)})\n",
    "    \n",
    "    out_df = pd.DataFrame(rows, columns=df_cols[1:])\n",
    "        \n",
    "    return out_df"
   ]
  },
  {
   "cell_type": "code",
   "execution_count": 49,
   "metadata": {},
   "outputs": [
    {
     "data": {
      "text/html": [
       "<div>\n",
       "<style scoped>\n",
       "    .dataframe tbody tr th:only-of-type {\n",
       "        vertical-align: middle;\n",
       "    }\n",
       "\n",
       "    .dataframe tbody tr th {\n",
       "        vertical-align: top;\n",
       "    }\n",
       "\n",
       "    .dataframe thead th {\n",
       "        text-align: right;\n",
       "    }\n",
       "</style>\n",
       "<table border=\"1\" class=\"dataframe\">\n",
       "  <thead>\n",
       "    <tr style=\"text-align: right;\">\n",
       "      <th></th>\n",
       "      <th>School_Name</th>\n",
       "      <th>School_Type</th>\n",
       "      <th>X</th>\n",
       "      <th>Y</th>\n",
       "    </tr>\n",
       "  </thead>\n",
       "  <tbody>\n",
       "    <tr>\n",
       "      <th>0</th>\n",
       "      <td>Alberton Primary School</td>\n",
       "      <td>Primary</td>\n",
       "      <td>146.666601</td>\n",
       "      <td>-38.617713</td>\n",
       "    </tr>\n",
       "    <tr>\n",
       "      <th>1</th>\n",
       "      <td>Allansford and District Primary School</td>\n",
       "      <td>Primary</td>\n",
       "      <td>142.590393</td>\n",
       "      <td>-38.386281</td>\n",
       "    </tr>\n",
       "    <tr>\n",
       "      <th>2</th>\n",
       "      <td>Avoca Primary School</td>\n",
       "      <td>Primary</td>\n",
       "      <td>143.475649</td>\n",
       "      <td>-37.084502</td>\n",
       "    </tr>\n",
       "    <tr>\n",
       "      <th>3</th>\n",
       "      <td>Avenel Primary School</td>\n",
       "      <td>Primary</td>\n",
       "      <td>145.234722</td>\n",
       "      <td>-36.901368</td>\n",
       "    </tr>\n",
       "    <tr>\n",
       "      <th>4</th>\n",
       "      <td>Warrandyte Primary School</td>\n",
       "      <td>Primary</td>\n",
       "      <td>145.21398</td>\n",
       "      <td>-37.742675</td>\n",
       "    </tr>\n",
       "  </tbody>\n",
       "</table>\n",
       "</div>"
      ],
      "text/plain": [
       "                              School_Name School_Type           X           Y\n",
       "0                 Alberton Primary School     Primary  146.666601  -38.617713\n",
       "1  Allansford and District Primary School     Primary  142.590393  -38.386281\n",
       "2                    Avoca Primary School     Primary  143.475649  -37.084502\n",
       "3                   Avenel Primary School     Primary  145.234722  -36.901368\n",
       "4               Warrandyte Primary School     Primary   145.21398  -37.742675"
      ]
     },
     "execution_count": 49,
     "metadata": {},
     "output_type": "execute_result"
    }
   ],
   "source": [
    "dfschool=parse_XML('schools.xml',['school','School_Name','School_Type','X','Y'])\n",
    "dfschool.head(5)"
   ]
  },
  {
   "cell_type": "code",
   "execution_count": 50,
   "metadata": {},
   "outputs": [
    {
     "data": {
      "text/plain": [
       "Primary      1556\n",
       "Secondary     343\n",
       "Pri/Sec       243\n",
       "Special       108\n",
       "Language        4\n",
       "Name: School_Type, dtype: int64"
      ]
     },
     "execution_count": 50,
     "metadata": {},
     "output_type": "execute_result"
    }
   ],
   "source": [
    "dfschool['School_Type'].value_counts()"
   ]
  },
  {
   "cell_type": "markdown",
   "metadata": {},
   "source": [
    "There are 5 types of school here. However, we only need information of Primary schools and Secondary school. For primary school, we should care about Primary Type and Pri/Sec type. "
   ]
  },
  {
   "cell_type": "code",
   "execution_count": 51,
   "metadata": {},
   "outputs": [],
   "source": [
    "# extract information of each school\n",
    "dfsecond_school=dfschool[(dfschool.School_Type.isin(['Secondary','Pri/Sec']))]\n",
    "dfprimary_school=dfschool[(dfschool.School_Type.isin(['Primary','Pri/Sec']))]"
   ]
  },
  {
   "cell_type": "markdown",
   "metadata": {},
   "source": [
    "Now, we need extract information of name,latitute,longitute of each school in dfprimary_school"
   ]
  },
  {
   "cell_type": "code",
   "execution_count": 52,
   "metadata": {},
   "outputs": [],
   "source": [
    "# extract name,lat,lon\n",
    "pname=[]\n",
    "for n,lat,lon in zip(dfprimary_school.School_Name,dfprimary_school.Y,dfprimary_school.X):\n",
    "    pname.append((n,lat,lon))"
   ]
  },
  {
   "cell_type": "markdown",
   "metadata": {},
   "source": [
    "In order to calculate closet distance, we also can use Haversine function combine with min() with key =`lambda s:Haversine(point[1],point[0],float(s[1]),float(s[2])` "
   ]
  },
  {
   "cell_type": "code",
   "execution_count": 53,
   "metadata": {},
   "outputs": [],
   "source": [
    "school_name=[]\n",
    "distance=[]\n",
    "all_points=[ point for point in zip(df1.Longtitude,df1.Lattitude)]\n",
    "for point in all_points:\n",
    "    school_name.append(min(pname,key=lambda s:Haversine(point[1],point[0],float(s[1]),float(s[2]) ))[0])\n",
    "    distance.append(min([Haversine(point[1],point[0],float(s[1]),float(s[2])) for s in pname])*1000)"
   ]
  },
  {
   "cell_type": "markdown",
   "metadata": {},
   "source": [
    "For ranking, we need to create dictionary contains school's name and its rank. And then, we use this dictionary to define ranking.  "
   ]
  },
  {
   "cell_type": "code",
   "execution_count": 54,
   "metadata": {},
   "outputs": [],
   "source": [
    "html = urlopen(\"http://www.schoolcatchment.com.au/?p=12301\")\n",
    "bsobj = BeautifulSoup(html, \"html.parser\")\n",
    "notices = bsobj.find(\"div\", {\"class\": \"entry-content\"})\n",
    "contents = \"\".join([str(item) for item in notices.contents])\n",
    "all_ranks=re.findall(r'<tr class[\\s\\S]*?</tr>',contents)\n",
    "dict_rank={}\n",
    "for school in all_ranks[1:]:\n",
    "    # extract school rank\n",
    "    rank=re.search('<td class=\"column-1\">(.*?)</td>',school).group(1)\n",
    "    #extract school name\n",
    "    name=re.search('<td class=\"column-2\">(.*?)</td>',school).group(1)\n",
    "    # in case of duplicate rank\n",
    "    if name in dict_rank.keys(): \n",
    "        # if new rank less than old rank then change it \n",
    "        if int(rank) < int(dict_rank[name]):\n",
    "            dict_rank[name]=rank\n",
    "    else:\n",
    "        dict_rank[name]=rank"
   ]
  },
  {
   "cell_type": "markdown",
   "metadata": {},
   "source": [
    "In here, since there is some school's names that not actually exactly school's name in list rank. Hence, i use difflib.get_close_matches to catch similar school name and then use this value to get rank by above dictionary. (Note: There are some html tag need pre process on school name) "
   ]
  },
  {
   "cell_type": "code",
   "execution_count": 55,
   "metadata": {},
   "outputs": [],
   "source": [
    "import html\n",
    "school_name=[html.unescape(school) for school in school_name]\n",
    "\n",
    "school_rank=[]\n",
    "\n",
    "for school in school_name:\n",
    "    school_similar= difflib.get_close_matches(school, dict_rank.keys(),1,0.8)\n",
    "    if len(school_similar) != 0:\n",
    "        school_rank.append(dict_rank[school_similar[0]])\n",
    "    else:\n",
    "        school_rank.append('not ranked')\n",
    "    "
   ]
  },
  {
   "cell_type": "code",
   "execution_count": 56,
   "metadata": {},
   "outputs": [],
   "source": [
    "df1['closest_primary_school']=school_name\n",
    "df1['distance_to_closest_primary']=distance\n",
    "df1['primary_school_ranking']=school_rank"
   ]
  },
  {
   "cell_type": "markdown",
   "metadata": {},
   "source": [
    "<b>secondary school_name,distance,school_rank </b>\n",
    "\n",
    "We do same approach as primary school "
   ]
  },
  {
   "cell_type": "code",
   "execution_count": 57,
   "metadata": {},
   "outputs": [],
   "source": [
    "sname=[]\n",
    "for n,lat,lon in zip(dfsecond_school.School_Name,dfsecond_school.Y,dfsecond_school.X):\n",
    "    sname.append((n,lat,lon))"
   ]
  },
  {
   "cell_type": "code",
   "execution_count": 58,
   "metadata": {},
   "outputs": [],
   "source": [
    "school_name=[]\n",
    "distance=[]\n",
    "all_points=[ point for point in zip(df1.Longtitude,df1.Lattitude)]\n",
    "for point in all_points:\n",
    "    school_name.append(min(sname,key=lambda s:Haversine(point[1],point[0],float(s[1]),float(s[2]) ))[0])\n",
    "    distance.append(min([Haversine(point[1],point[0],float(s[1]),float(s[2])) for s in sname])*1000)"
   ]
  },
  {
   "cell_type": "markdown",
   "metadata": {},
   "source": [
    "In last column, when i try to access this link https://sites.google.com/a/monash.edu/secondary-school-ranking/. \n",
    "by beautifulsoup, it require sign in monash account which can not be done on jupyter notebook. Hence,i download the website manually as `secondary-school-ranking.html` , and read it as html file."
   ]
  },
  {
   "cell_type": "code",
   "execution_count": 59,
   "metadata": {},
   "outputs": [],
   "source": [
    "with open('secondary-school-ranking.html','r',encoding='utf-8') as f:\n",
    "    s=f.read()"
   ]
  },
  {
   "cell_type": "code",
   "execution_count": 60,
   "metadata": {},
   "outputs": [],
   "source": [
    "all_ranks=re.findall(r'<li>[\\s\\S]*?</li>',s)"
   ]
  },
  {
   "cell_type": "code",
   "execution_count": 61,
   "metadata": {},
   "outputs": [],
   "source": [
    "dict_rank={}\n",
    "for school in all_ranks:\n",
    "    name=re.findall('<div>(.*?)</div>',school)[0]\n",
    "    rank=re.findall('<div>(.*?)</div>',school)[1]\n",
    "    if name in dict_rank.keys(): \n",
    "        if int(rank) < int(dict_rank[name]):\n",
    "            dict_rank[name]=rank\n",
    "    else:\n",
    "        dict_rank[name]=rank"
   ]
  },
  {
   "cell_type": "code",
   "execution_count": 62,
   "metadata": {},
   "outputs": [],
   "source": [
    "import html\n",
    "school_name=[html.unescape(school) for school in school_name]\n",
    "\n",
    "school_rank=[]\n",
    "for school in school_name:\n",
    "    school_similar= difflib.get_close_matches(school, dict_rank.keys(),1,0.8)\n",
    "    if len(school_similar) != 0:\n",
    "        school_rank.append(dict_rank[school_similar[0]])\n",
    "    else:\n",
    "        school_rank.append('not ranked')\n",
    "    "
   ]
  },
  {
   "cell_type": "code",
   "execution_count": 63,
   "metadata": {},
   "outputs": [],
   "source": [
    "df1['closest_secondary_school']=school_name\n",
    "df1['distance_to_closest_secondary']=distance\n",
    "df1['secondary_school_ranking']=school_rank"
   ]
  },
  {
   "cell_type": "code",
   "execution_count": 64,
   "metadata": {},
   "outputs": [],
   "source": [
    "# there is some typo in column name\n",
    "df1=df1.rename(columns={'Landsize':'LandSize','Lattitude':'Latitude','Longtitude':'Longitude'})"
   ]
  },
  {
   "cell_type": "code",
   "execution_count": 65,
   "metadata": {},
   "outputs": [],
   "source": [
    "# change order of columns\n",
    "reorder_title=['ID','Address','Suburb','Price','Type','Date','Rooms','Bathroom','Car','LandSize',\\\n",
    "              'Age','Latitude','Longitude','train_station_id','distance_to_train_station','travel_min_to_CBD',\\\n",
    "              'over_priced?','crime_A_average','crime_B_average','crime_C_average','closest_primary_school',\\\n",
    "              'distance_to_closest_primary','primary_school_ranking','closest_secondary_school',\\\n",
    "               'distance_to_closest_secondary','secondary_school_ranking']\n",
    "df1=df1.reindex(columns=reorder_title)"
   ]
  },
  {
   "cell_type": "code",
   "execution_count": 66,
   "metadata": {},
   "outputs": [],
   "source": [
    "df1.to_csv('Group148_solution.csv',index=False)"
   ]
  },
  {
   "cell_type": "markdown",
   "metadata": {},
   "source": [
    "# Task2\n",
    "In this task, we need to study the effect of different normalization/transformation methods (i.e.\n",
    "standardization, min-max normalization, log, power, and root transformation) on the following attributes:\n",
    "- Rooms\n",
    "- crime_C_average\n",
    "- travel_min_to_CBD\n",
    "- property_age \n",
    "\n",
    "We will observe and explain their effect assuming that we want to build a linear model on `price` using these attributes as predictors of the linear model and recommend which one(s) we think work better on this data.\n",
    "\n",
    "As mention above that we want to build a linear model, there are a few key assumptions on those attributes to follow:\n",
    "- `Linear realtionship` : There must be a linear relationship between the outcome variable and the independent variables.  Scatterplots can show whether there is a linear or curvilinear relationship.\n",
    "- `Multivariate normality` : Multivariate Normality–Multiple regression assumes that the residuals are normally distributed.\n",
    "\n",
    "Let's start with buiding the dataframe we need"
   ]
  },
  {
   "cell_type": "code",
   "execution_count": 67,
   "metadata": {},
   "outputs": [
    {
     "data": {
      "text/html": [
       "<div>\n",
       "<style scoped>\n",
       "    .dataframe tbody tr th:only-of-type {\n",
       "        vertical-align: middle;\n",
       "    }\n",
       "\n",
       "    .dataframe tbody tr th {\n",
       "        vertical-align: top;\n",
       "    }\n",
       "\n",
       "    .dataframe thead th {\n",
       "        text-align: right;\n",
       "    }\n",
       "</style>\n",
       "<table border=\"1\" class=\"dataframe\">\n",
       "  <thead>\n",
       "    <tr style=\"text-align: right;\">\n",
       "      <th></th>\n",
       "      <th>Price</th>\n",
       "      <th>Rooms</th>\n",
       "      <th>Age</th>\n",
       "      <th>travel_min_to_CBD</th>\n",
       "      <th>crime_C_average</th>\n",
       "    </tr>\n",
       "  </thead>\n",
       "  <tbody>\n",
       "    <tr>\n",
       "      <th>0</th>\n",
       "      <td>735000.0</td>\n",
       "      <td>3</td>\n",
       "      <td>129.0</td>\n",
       "      <td>6.092593</td>\n",
       "      <td>33.000000</td>\n",
       "    </tr>\n",
       "    <tr>\n",
       "      <th>1</th>\n",
       "      <td>2035000.0</td>\n",
       "      <td>3</td>\n",
       "      <td>129.0</td>\n",
       "      <td>0.000000</td>\n",
       "      <td>375.333333</td>\n",
       "    </tr>\n",
       "    <tr>\n",
       "      <th>2</th>\n",
       "      <td>703000.0</td>\n",
       "      <td>3</td>\n",
       "      <td>59.0</td>\n",
       "      <td>35.142857</td>\n",
       "      <td>159.333333</td>\n",
       "    </tr>\n",
       "    <tr>\n",
       "      <th>3</th>\n",
       "      <td>710000.0</td>\n",
       "      <td>3</td>\n",
       "      <td>59.0</td>\n",
       "      <td>49.769231</td>\n",
       "      <td>50.666667</td>\n",
       "    </tr>\n",
       "    <tr>\n",
       "      <th>4</th>\n",
       "      <td>1100000.0</td>\n",
       "      <td>3</td>\n",
       "      <td>18.0</td>\n",
       "      <td>18.214286</td>\n",
       "      <td>338.333333</td>\n",
       "    </tr>\n",
       "  </tbody>\n",
       "</table>\n",
       "</div>"
      ],
      "text/plain": [
       "       Price  Rooms    Age  travel_min_to_CBD  crime_C_average\n",
       "0   735000.0      3  129.0           6.092593        33.000000\n",
       "1  2035000.0      3  129.0           0.000000       375.333333\n",
       "2   703000.0      3   59.0          35.142857       159.333333\n",
       "3   710000.0      3   59.0          49.769231        50.666667\n",
       "4  1100000.0      3   18.0          18.214286       338.333333"
      ]
     },
     "execution_count": 67,
     "metadata": {},
     "output_type": "execute_result"
    }
   ],
   "source": [
    "#create dataframe with desired attributes \n",
    "df_original = pd.read_csv('Group148_solution.csv', usecols =['Rooms','crime_C_average','travel_min_to_CBD','Age','Price'])\n",
    "df_original.head()"
   ]
  },
  {
   "cell_type": "code",
   "execution_count": 68,
   "metadata": {},
   "outputs": [
    {
     "data": {
      "text/html": [
       "<div>\n",
       "<style scoped>\n",
       "    .dataframe tbody tr th:only-of-type {\n",
       "        vertical-align: middle;\n",
       "    }\n",
       "\n",
       "    .dataframe tbody tr th {\n",
       "        vertical-align: top;\n",
       "    }\n",
       "\n",
       "    .dataframe thead th {\n",
       "        text-align: right;\n",
       "    }\n",
       "</style>\n",
       "<table border=\"1\" class=\"dataframe\">\n",
       "  <thead>\n",
       "    <tr style=\"text-align: right;\">\n",
       "      <th></th>\n",
       "      <th>Price</th>\n",
       "      <th>Rooms</th>\n",
       "      <th>Age</th>\n",
       "      <th>travel_min_to_CBD</th>\n",
       "      <th>crime_C_average</th>\n",
       "    </tr>\n",
       "  </thead>\n",
       "  <tbody>\n",
       "    <tr>\n",
       "      <th>count</th>\n",
       "      <td>6.810000e+02</td>\n",
       "      <td>681.000000</td>\n",
       "      <td>681.000000</td>\n",
       "      <td>681.000000</td>\n",
       "      <td>681.000000</td>\n",
       "    </tr>\n",
       "    <tr>\n",
       "      <th>mean</th>\n",
       "      <td>1.064966e+06</td>\n",
       "      <td>2.966226</td>\n",
       "      <td>55.756241</td>\n",
       "      <td>25.765060</td>\n",
       "      <td>424.234459</td>\n",
       "    </tr>\n",
       "    <tr>\n",
       "      <th>std</th>\n",
       "      <td>5.974788e+05</td>\n",
       "      <td>0.973338</td>\n",
       "      <td>36.881678</td>\n",
       "      <td>11.356249</td>\n",
       "      <td>379.182499</td>\n",
       "    </tr>\n",
       "    <tr>\n",
       "      <th>min</th>\n",
       "      <td>2.220000e+05</td>\n",
       "      <td>1.000000</td>\n",
       "      <td>2.000000</td>\n",
       "      <td>0.000000</td>\n",
       "      <td>1.000000</td>\n",
       "    </tr>\n",
       "    <tr>\n",
       "      <th>25%</th>\n",
       "      <td>6.650000e+05</td>\n",
       "      <td>2.000000</td>\n",
       "      <td>23.000000</td>\n",
       "      <td>18.236364</td>\n",
       "      <td>154.000000</td>\n",
       "    </tr>\n",
       "    <tr>\n",
       "      <th>50%</th>\n",
       "      <td>9.050000e+05</td>\n",
       "      <td>3.000000</td>\n",
       "      <td>49.000000</td>\n",
       "      <td>25.236364</td>\n",
       "      <td>338.333333</td>\n",
       "    </tr>\n",
       "    <tr>\n",
       "      <th>75%</th>\n",
       "      <td>1.320000e+06</td>\n",
       "      <td>3.000000</td>\n",
       "      <td>79.000000</td>\n",
       "      <td>32.052632</td>\n",
       "      <td>586.666667</td>\n",
       "    </tr>\n",
       "    <tr>\n",
       "      <th>max</th>\n",
       "      <td>5.020000e+06</td>\n",
       "      <td>8.000000</td>\n",
       "      <td>139.000000</td>\n",
       "      <td>67.333333</td>\n",
       "      <td>2042.333333</td>\n",
       "    </tr>\n",
       "  </tbody>\n",
       "</table>\n",
       "</div>"
      ],
      "text/plain": [
       "              Price       Rooms         Age  travel_min_to_CBD  \\\n",
       "count  6.810000e+02  681.000000  681.000000         681.000000   \n",
       "mean   1.064966e+06    2.966226   55.756241          25.765060   \n",
       "std    5.974788e+05    0.973338   36.881678          11.356249   \n",
       "min    2.220000e+05    1.000000    2.000000           0.000000   \n",
       "25%    6.650000e+05    2.000000   23.000000          18.236364   \n",
       "50%    9.050000e+05    3.000000   49.000000          25.236364   \n",
       "75%    1.320000e+06    3.000000   79.000000          32.052632   \n",
       "max    5.020000e+06    8.000000  139.000000          67.333333   \n",
       "\n",
       "       crime_C_average  \n",
       "count       681.000000  \n",
       "mean        424.234459  \n",
       "std         379.182499  \n",
       "min           1.000000  \n",
       "25%         154.000000  \n",
       "50%         338.333333  \n",
       "75%         586.666667  \n",
       "max        2042.333333  "
      ]
     },
     "execution_count": 68,
     "metadata": {},
     "output_type": "execute_result"
    }
   ],
   "source": [
    "df_original.describe()"
   ]
  },
  {
   "cell_type": "markdown",
   "metadata": {},
   "source": [
    "Now we will start investigating the first assumption `Linear relationship` between the independent and dependent variable (attributes/ predictors) which best can be tested with scatter plot\n",
    "If the dependent variable does not show linearity, we will use `transformation` to cope with it."
   ]
  },
  {
   "cell_type": "code",
   "execution_count": 69,
   "metadata": {},
   "outputs": [
    {
     "data": {
      "text/plain": [
       "Text(0.5, 1.0, 'Price vs crime_C_average')"
      ]
     },
     "execution_count": 69,
     "metadata": {},
     "output_type": "execute_result"
    },
    {
     "data": {
      "image/png": "[encoded data removed]",
      "text/plain": [
       "<Figure size 1080x1080 with 4 Axes>"
      ]
     },
     "metadata": {
      "needs_background": "light"
     },
     "output_type": "display_data"
    }
   ],
   "source": [
    "fig, axs = plt.subplots(2, 2, figsize =(15,15) )\n",
    "axs[0, 0].scatter(df_original['Rooms'], df_original['Price'])\n",
    "axs[0, 0].set_title('Price vs Rooms')\n",
    "axs[0, 1].scatter(df_original['Age'], df_original['Price'])\n",
    "axs[0, 1].set_title('Price vs Age')\n",
    "axs[1, 0].scatter(df_original['travel_min_to_CBD'], df_original['Price'])\n",
    "axs[1, 0].set_title('Price vs travel_min_to_CBD')\n",
    "axs[1, 1].scatter(df_original['crime_C_average'], df_original['Price'])\n",
    "axs[1, 1].set_title('Price vs crime_C_average')"
   ]
  },
  {
   "cell_type": "markdown",
   "metadata": {},
   "source": [
    "The scatter plot above does not show the clear trend of linearity. Therefore, we will use the following transformation methods on each attribute to make it satisfy the assumption and choose the best transformation method\n",
    "1. log transformation\n",
    "2. root transformation\n",
    "3. power transformation\n",
    "\n",
    "We will start investigating `Rooms` first\n",
    "### Rooms\n",
    "The scatter plot of Rooms seem to show a little linear trend yet it is not that clear, so we will try on every transformation methods and measure correlation to assure the best one."
   ]
  },
  {
   "cell_type": "code",
   "execution_count": 70,
   "metadata": {},
   "outputs": [],
   "source": [
    "# build dataframe \n",
    "df_transform = pd.DataFrame()\n",
    "# Root transformation\n",
    "df_transform['Rooms_sqrt'] = df_original['Rooms'].map(sqrt)\n",
    "# Log transformtion\n",
    "df_transform['Rooms_log'] = df_original['Rooms'].map(log)\n",
    "# Power transformation\n",
    "df_transform['Rooms_pow'] = df_original['Rooms']**2"
   ]
  },
  {
   "cell_type": "markdown",
   "metadata": {},
   "source": [
    "We can make a decision on whether which transformation methods to implement by comparing `correlation` between each case.\n",
    "By doing that we will build a function to calculate all the correlation at once."
   ]
  },
  {
   "cell_type": "code",
   "execution_count": 71,
   "metadata": {},
   "outputs": [],
   "source": [
    "def cor(y):\n",
    "    print(y+' vs Price')\n",
    "    c,_ =pearsonr(df_original[y] ,df_original['Price'])\n",
    "    print('Correlation of original {:.2f}'.format(c))\n",
    "    c_log,_ =pearsonr(df_transform[y+'_log'] ,df_original['Price'])\n",
    "    print('Correlation of log transformation {:.2f}'.format(c_log))\n",
    "    c_sqrt,_ =pearsonr(df_transform[y+'_sqrt'] ,df_original['Price'])\n",
    "    print('Correlation of square root transformation {:.2f}'.format(c_sqrt))\n",
    "    c_power,_ =pearsonr(df_transform[y+'_pow'] ,df_original['Price'])\n",
    "    print('Correlation of power transformation {:.2f}\\n'.format(c_power))"
   ]
  },
  {
   "cell_type": "code",
   "execution_count": 72,
   "metadata": {},
   "outputs": [
    {
     "name": "stdout",
     "output_type": "stream",
     "text": [
      "Rooms vs Price\n",
      "Correlation of original 0.45\n",
      "Correlation of log transformation 0.46\n",
      "Correlation of square root transformation 0.46\n",
      "Correlation of power transformation 0.39\n",
      "\n"
     ]
    }
   ],
   "source": [
    "cor('Rooms')"
   ]
  },
  {
   "cell_type": "markdown",
   "metadata": {},
   "source": [
    "There is a stronger linear relationship for `Rooms` after log transformation or square root transformation since both of them are closer to 1 more than the original attribute.\n",
    "\n",
    "Thus, for **Rooms** we will be using one of **log transformation or square root transformation**\n",
    "\n",
    "Then we will transform the next attribute..\n",
    "### Age\n",
    "The scatter plot of Age, data scatter on the bottomand in the middle so as we did to Rooms, we will try all the transformation and choose the best one."
   ]
  },
  {
   "cell_type": "code",
   "execution_count": 73,
   "metadata": {},
   "outputs": [],
   "source": [
    "# Root transformation\n",
    "df_transform['Age_sqrt'] = df_original['Age'].map(sqrt)\n",
    "# Log transformtion\n",
    "df_transform['Age_log'] = df_original['Age'].map(log)\n",
    "# Power transformation\n",
    "df_transform['Age_pow'] = df_original['Age']**2"
   ]
  },
  {
   "cell_type": "code",
   "execution_count": 74,
   "metadata": {},
   "outputs": [
    {
     "name": "stdout",
     "output_type": "stream",
     "text": [
      "Age vs Price\n",
      "Correlation of original 0.25\n",
      "Correlation of log transformation 0.13\n",
      "Correlation of square root transformation 0.20\n",
      "Correlation of power transformation 0.30\n",
      "\n"
     ]
    }
   ],
   "source": [
    "cor('Age')"
   ]
  },
  {
   "cell_type": "markdown",
   "metadata": {},
   "source": [
    "There is a stronger linear relationship for `Age` after power transformation since it is closer to 1 more than the original attribute.\n",
    "\n",
    "Thus, for **Age** we will be using one of **power transformation**\n",
    "\n",
    "Then we will transform the next attribute..\n",
    "### travel_min_to_CBD\n",
    "The data point on scatter plot of travel_min_to_CBD scatter at one area which again does ot show a clear trend, we will do the same as the previous two attributes.\n",
    "Since as we saw on describe() that there is 0 in travel_min_to_CBD, we will calculate 0 with log(x-(min(x)-1) which would be 1 instead of 0."
   ]
  },
  {
   "cell_type": "code",
   "execution_count": 75,
   "metadata": {},
   "outputs": [],
   "source": [
    "#substitute 1 to 0\n",
    "df_original.loc[df_original['travel_min_to_CBD']== 0,'travel_min_to_CBD'] = 1\n",
    "# Root transformation\n",
    "df_transform['travel_min_to_CBD_sqrt'] = df_original['travel_min_to_CBD'].map(sqrt)\n",
    "# Log transformtion\n",
    "df_transform['travel_min_to_CBD_log'] = df_original['travel_min_to_CBD'].map(log)\n",
    "# Power transformation\n",
    "df_transform['travel_min_to_CBD_pow'] = df_original['travel_min_to_CBD']**2"
   ]
  },
  {
   "cell_type": "code",
   "execution_count": 76,
   "metadata": {},
   "outputs": [
    {
     "name": "stdout",
     "output_type": "stream",
     "text": [
      "travel_min_to_CBD vs Price\n",
      "Correlation of original -0.12\n",
      "Correlation of log transformation -0.06\n",
      "Correlation of square root transformation -0.10\n",
      "Correlation of power transformation -0.15\n",
      "\n"
     ]
    }
   ],
   "source": [
    "cor('travel_min_to_CBD')"
   ]
  },
  {
   "cell_type": "markdown",
   "metadata": {},
   "source": [
    "There is a stronger linear relationship for `travel_min_to_CBD` after power transformation since it is closer to 1 more than the original attribute.\n",
    "\n",
    "Thus, for **travel_min_to_CBD** we will be using one of **power transformation**\n",
    "\n",
    "Then we will transform the next attribute..\n",
    "### crime_C_average\n",
    "The data point on scatter plot of crime_C_average scatter around the origin and does not show much linearity, we will do the same as previously."
   ]
  },
  {
   "cell_type": "code",
   "execution_count": 77,
   "metadata": {},
   "outputs": [],
   "source": [
    "# Root transformation\n",
    "df_transform['crime_C_average_sqrt'] = df_original['crime_C_average'].map(sqrt)\n",
    "# Log transformtion\n",
    "df_transform['crime_C_average_log'] = df_original['crime_C_average'].map(log)\n",
    "# Power transformation\n",
    "df_transform['crime_C_average_pow'] = df_original['crime_C_average']**2"
   ]
  },
  {
   "cell_type": "code",
   "execution_count": 78,
   "metadata": {},
   "outputs": [
    {
     "name": "stdout",
     "output_type": "stream",
     "text": [
      "crime_C_average vs Price\n",
      "Correlation of original 0.17\n",
      "Correlation of log transformation 0.10\n",
      "Correlation of square root transformation 0.14\n",
      "Correlation of power transformation 0.20\n",
      "\n"
     ]
    }
   ],
   "source": [
    "cor('crime_C_average')"
   ]
  },
  {
   "cell_type": "markdown",
   "metadata": {},
   "source": [
    "There is a stronger linear relationship for `crime_C_average` after power transformation since it is closer to 1 more than the original attribute.\n",
    "\n",
    "Thus, for **crime_C_average** we will be using one of **power transformation**\n",
    "\n",
    "In conclusion, there is strong linear relationships between dependent and independent variable as the following:\n",
    "- Rooms : Correlation of log transformation 0.46\n",
    "- Age : Correlation of power transformation 0.30\n",
    "- travel_min_to_CBD : Correlation of power transformation -0.15\n",
    "- crime_C_average : Correlation of power transformation 0.20\n",
    "\n",
    "Now we will create a new dataframe for our choosen of transformation of attributes and target "
   ]
  },
  {
   "cell_type": "code",
   "execution_count": 79,
   "metadata": {},
   "outputs": [
    {
     "data": {
      "text/html": [
       "<div>\n",
       "<style scoped>\n",
       "    .dataframe tbody tr th:only-of-type {\n",
       "        vertical-align: middle;\n",
       "    }\n",
       "\n",
       "    .dataframe tbody tr th {\n",
       "        vertical-align: top;\n",
       "    }\n",
       "\n",
       "    .dataframe thead th {\n",
       "        text-align: right;\n",
       "    }\n",
       "</style>\n",
       "<table border=\"1\" class=\"dataframe\">\n",
       "  <thead>\n",
       "    <tr style=\"text-align: right;\">\n",
       "      <th></th>\n",
       "      <th>Price</th>\n",
       "      <th>trans_Rooms</th>\n",
       "      <th>trans_Age</th>\n",
       "      <th>trans_travel</th>\n",
       "      <th>trans_crime</th>\n",
       "    </tr>\n",
       "  </thead>\n",
       "  <tbody>\n",
       "    <tr>\n",
       "      <th>0</th>\n",
       "      <td>735000.0</td>\n",
       "      <td>1.098612</td>\n",
       "      <td>16641.0</td>\n",
       "      <td>37.119684</td>\n",
       "      <td>1089.000000</td>\n",
       "    </tr>\n",
       "    <tr>\n",
       "      <th>1</th>\n",
       "      <td>2035000.0</td>\n",
       "      <td>1.098612</td>\n",
       "      <td>16641.0</td>\n",
       "      <td>1.000000</td>\n",
       "      <td>140875.111111</td>\n",
       "    </tr>\n",
       "    <tr>\n",
       "      <th>2</th>\n",
       "      <td>703000.0</td>\n",
       "      <td>1.098612</td>\n",
       "      <td>3481.0</td>\n",
       "      <td>1235.020408</td>\n",
       "      <td>25387.111111</td>\n",
       "    </tr>\n",
       "    <tr>\n",
       "      <th>3</th>\n",
       "      <td>710000.0</td>\n",
       "      <td>1.098612</td>\n",
       "      <td>3481.0</td>\n",
       "      <td>2476.976331</td>\n",
       "      <td>2567.111111</td>\n",
       "    </tr>\n",
       "    <tr>\n",
       "      <th>4</th>\n",
       "      <td>1100000.0</td>\n",
       "      <td>1.098612</td>\n",
       "      <td>324.0</td>\n",
       "      <td>331.760204</td>\n",
       "      <td>114469.444444</td>\n",
       "    </tr>\n",
       "  </tbody>\n",
       "</table>\n",
       "</div>"
      ],
      "text/plain": [
       "       Price  trans_Rooms  trans_Age  trans_travel    trans_crime\n",
       "0   735000.0     1.098612    16641.0     37.119684    1089.000000\n",
       "1  2035000.0     1.098612    16641.0      1.000000  140875.111111\n",
       "2   703000.0     1.098612     3481.0   1235.020408   25387.111111\n",
       "3   710000.0     1.098612     3481.0   2476.976331    2567.111111\n",
       "4  1100000.0     1.098612      324.0    331.760204  114469.444444"
      ]
     },
     "execution_count": 79,
     "metadata": {},
     "output_type": "execute_result"
    }
   ],
   "source": [
    "df_chosen_transform = pd.DataFrame()\n",
    "df_chosen_transform['Price'] =df_original['Price']\n",
    "df_chosen_transform['trans_Rooms'] =df_transform['Rooms_log']\n",
    "df_chosen_transform['trans_Age'] =df_transform['Age_pow']\n",
    "df_chosen_transform['trans_travel'] =df_transform['travel_min_to_CBD_pow']\n",
    "df_chosen_transform['trans_crime'] =df_transform['crime_C_average_pow'] \n",
    "df_chosen_transform.head()"
   ]
  },
  {
   "cell_type": "markdown",
   "metadata": {},
   "source": [
    "You can see from the dataframe `'df_chosen_transform'` that the dependent variables are measured in different units and do not contribute equally to the analysis which might lead to a bias. \n",
    "\n",
    "In order to deal with it, we will standardize using `z-score normalization` on each of the independent variable to make the value around the center and 0 with a standard deviation of 1.\n",
    "\n",
    "We use scikit-learn linrary for standardise data (mean=0, SD=1). The class you are going to use is the <a href=\"http://scikit-learn.org/stable/modules/generated/sklearn.preprocessing.StandardScaler.html\">StandardScaler</a> class."
   ]
  },
  {
   "cell_type": "code",
   "execution_count": 80,
   "metadata": {},
   "outputs": [
    {
     "data": {
      "text/html": [
       "<div>\n",
       "<style scoped>\n",
       "    .dataframe tbody tr th:only-of-type {\n",
       "        vertical-align: middle;\n",
       "    }\n",
       "\n",
       "    .dataframe tbody tr th {\n",
       "        vertical-align: top;\n",
       "    }\n",
       "\n",
       "    .dataframe thead th {\n",
       "        text-align: right;\n",
       "    }\n",
       "</style>\n",
       "<table border=\"1\" class=\"dataframe\">\n",
       "  <thead>\n",
       "    <tr style=\"text-align: right;\">\n",
       "      <th></th>\n",
       "      <th>Price_scaled</th>\n",
       "      <th>Rooms_scaled</th>\n",
       "      <th>Age_scaled</th>\n",
       "      <th>travel_scaled</th>\n",
       "      <th>crime_scaled</th>\n",
       "    </tr>\n",
       "  </thead>\n",
       "  <tbody>\n",
       "    <tr>\n",
       "      <th>0</th>\n",
       "      <td>-0.552670</td>\n",
       "      <td>0.194871</td>\n",
       "      <td>2.456323</td>\n",
       "      <td>-1.119309</td>\n",
       "      <td>-0.508593</td>\n",
       "    </tr>\n",
       "    <tr>\n",
       "      <th>1</th>\n",
       "      <td>1.624738</td>\n",
       "      <td>0.194871</td>\n",
       "      <td>2.456323</td>\n",
       "      <td>-1.172821</td>\n",
       "      <td>-0.288114</td>\n",
       "    </tr>\n",
       "    <tr>\n",
       "      <th>2</th>\n",
       "      <td>-0.606268</td>\n",
       "      <td>0.194871</td>\n",
       "      <td>-0.198947</td>\n",
       "      <td>0.655418</td>\n",
       "      <td>-0.470268</td>\n",
       "    </tr>\n",
       "    <tr>\n",
       "      <th>3</th>\n",
       "      <td>-0.594544</td>\n",
       "      <td>0.194871</td>\n",
       "      <td>-0.198947</td>\n",
       "      <td>2.495414</td>\n",
       "      <td>-0.506261</td>\n",
       "    </tr>\n",
       "    <tr>\n",
       "      <th>4</th>\n",
       "      <td>0.058679</td>\n",
       "      <td>0.194871</td>\n",
       "      <td>-0.835930</td>\n",
       "      <td>-0.682790</td>\n",
       "      <td>-0.329763</td>\n",
       "    </tr>\n",
       "  </tbody>\n",
       "</table>\n",
       "</div>"
      ],
      "text/plain": [
       "   Price_scaled  Rooms_scaled  Age_scaled  travel_scaled  crime_scaled\n",
       "0     -0.552670      0.194871    2.456323      -1.119309     -0.508593\n",
       "1      1.624738      0.194871    2.456323      -1.172821     -0.288114\n",
       "2     -0.606268      0.194871   -0.198947       0.655418     -0.470268\n",
       "3     -0.594544      0.194871   -0.198947       2.495414     -0.506261\n",
       "4      0.058679      0.194871   -0.835930      -0.682790     -0.329763"
      ]
     },
     "execution_count": 80,
     "metadata": {},
     "output_type": "execute_result"
    }
   ],
   "source": [
    "std_scale = preprocessing.StandardScaler()\n",
    "df_std = std_scale.fit_transform(df_chosen_transform[['Price','trans_Rooms','trans_Age','trans_travel','trans_crime']])\n",
    "df_std[0:5]\n",
    "# put it alongside data... to view\n",
    "df_normal = pd.DataFrame()\n",
    "df_normal['Price_scaled'] = df_std[:,0] # so 'Price_scaled' is Price scaled\n",
    "df_normal['Rooms_scaled'] = df_std[:,1] # and 'Rooms_scaled' is Rooms scaled\n",
    "df_normal['Age_scaled'] = df_std[:,2] # and 'crime_scaled' is crime acid scaled\n",
    "df_normal['travel_scaled'] = df_std[:,3] # and 'travel_scaled' is travel scaled\n",
    "df_normal['crime_scaled'] = df_std[:,4] #and 'Age_scaled' is Age scaled\n",
    "df_normal.head()"
   ]
  },
  {
   "cell_type": "code",
   "execution_count": 87,
   "metadata": {},
   "outputs": [
    {
     "data": {
      "text/html": [
       "<div>\n",
       "<style scoped>\n",
       "    .dataframe tbody tr th:only-of-type {\n",
       "        vertical-align: middle;\n",
       "    }\n",
       "\n",
       "    .dataframe tbody tr th {\n",
       "        vertical-align: top;\n",
       "    }\n",
       "\n",
       "    .dataframe thead th {\n",
       "        text-align: right;\n",
       "    }\n",
       "</style>\n",
       "<table border=\"1\" class=\"dataframe\">\n",
       "  <thead>\n",
       "    <tr style=\"text-align: right;\">\n",
       "      <th></th>\n",
       "      <th>Price_scaled</th>\n",
       "      <th>Rooms_scaled</th>\n",
       "      <th>Age_scaled</th>\n",
       "      <th>travel_scaled</th>\n",
       "      <th>crime_scaled</th>\n",
       "    </tr>\n",
       "  </thead>\n",
       "  <tbody>\n",
       "    <tr>\n",
       "      <th>count</th>\n",
       "      <td>6.810000e+02</td>\n",
       "      <td>6.810000e+02</td>\n",
       "      <td>6.810000e+02</td>\n",
       "      <td>6.810000e+02</td>\n",
       "      <td>6.810000e+02</td>\n",
       "    </tr>\n",
       "    <tr>\n",
       "      <th>mean</th>\n",
       "      <td>-4.173526e-17</td>\n",
       "      <td>3.149708e-16</td>\n",
       "      <td>9.912123e-17</td>\n",
       "      <td>6.390711e-17</td>\n",
       "      <td>-1.043381e-17</td>\n",
       "    </tr>\n",
       "    <tr>\n",
       "      <th>std</th>\n",
       "      <td>1.000735e+00</td>\n",
       "      <td>1.000735e+00</td>\n",
       "      <td>1.000735e+00</td>\n",
       "      <td>1.000735e+00</td>\n",
       "      <td>1.000735e+00</td>\n",
       "    </tr>\n",
       "    <tr>\n",
       "      <th>min</th>\n",
       "      <td>-1.411909e+00</td>\n",
       "      <td>-2.968452e+00</td>\n",
       "      <td>-9.004956e-01</td>\n",
       "      <td>-1.172821e+00</td>\n",
       "      <td>-5.103087e-01</td>\n",
       "    </tr>\n",
       "    <tr>\n",
       "      <th>25%</th>\n",
       "      <td>-6.699155e-01</td>\n",
       "      <td>-9.726171e-01</td>\n",
       "      <td>-7.945672e-01</td>\n",
       "      <td>-6.815975e-01</td>\n",
       "      <td>-4.729041e-01</td>\n",
       "    </tr>\n",
       "    <tr>\n",
       "      <th>50%</th>\n",
       "      <td>-2.679324e-01</td>\n",
       "      <td>1.948714e-01</td>\n",
       "      <td>-4.168571e-01</td>\n",
       "      <td>-2.307543e-01</td>\n",
       "      <td>-3.297627e-01</td>\n",
       "    </tr>\n",
       "    <tr>\n",
       "      <th>75%</th>\n",
       "      <td>4.271635e-01</td>\n",
       "      <td>1.948714e-01</td>\n",
       "      <td>3.579330e-01</td>\n",
       "      <td>3.477792e-01</td>\n",
       "      <td>3.254614e-02</td>\n",
       "    </tr>\n",
       "    <tr>\n",
       "      <th>max</th>\n",
       "      <td>6.624404e+00</td>\n",
       "      <td>3.019053e+00</td>\n",
       "      <td>2.997062e+00</td>\n",
       "      <td>5.542628e+00</td>\n",
       "      <td>6.068622e+00</td>\n",
       "    </tr>\n",
       "  </tbody>\n",
       "</table>\n",
       "</div>"
      ],
      "text/plain": [
       "       Price_scaled  Rooms_scaled    Age_scaled  travel_scaled  crime_scaled\n",
       "count  6.810000e+02  6.810000e+02  6.810000e+02   6.810000e+02  6.810000e+02\n",
       "mean  -4.173526e-17  3.149708e-16  9.912123e-17   6.390711e-17 -1.043381e-17\n",
       "std    1.000735e+00  1.000735e+00  1.000735e+00   1.000735e+00  1.000735e+00\n",
       "min   -1.411909e+00 -2.968452e+00 -9.004956e-01  -1.172821e+00 -5.103087e-01\n",
       "25%   -6.699155e-01 -9.726171e-01 -7.945672e-01  -6.815975e-01 -4.729041e-01\n",
       "50%   -2.679324e-01  1.948714e-01 -4.168571e-01  -2.307543e-01 -3.297627e-01\n",
       "75%    4.271635e-01  1.948714e-01  3.579330e-01   3.477792e-01  3.254614e-02\n",
       "max    6.624404e+00  3.019053e+00  2.997062e+00   5.542628e+00  6.068622e+00"
      ]
     },
     "execution_count": 87,
     "metadata": {},
     "output_type": "execute_result"
    }
   ],
   "source": [
    "df_normal.describe()"
   ]
  },
  {
   "cell_type": "markdown",
   "metadata": {},
   "source": [
    "Now, compute and display the normalised values for features. Let's check if they have mean of 0 and SD= 1."
   ]
  },
  {
   "cell_type": "code",
   "execution_count": 81,
   "metadata": {},
   "outputs": [
    {
     "name": "stdout",
     "output_type": "stream",
     "text": [
      "Mean after standardisation:\n",
      "Price = -0.00, Room = 0.00, crime_C_average = 0.00, travel_min_to_CBD = 0.00, Age = -0.00\n",
      "\n",
      "Standard deviation after standardisation:\n",
      "Price = 1.00, Room = 1.00, crime_C_average = 1.00, travel_min_to_CBD = 1.00, Age = 1.00\n"
     ]
    }
   ],
   "source": [
    "print('Mean after standardisation:\\nPrice = {:.2f}, Room = {:.2f}, crime_C_average = {:.2f}, travel_min_to_CBD = {:.2f}, Age = {:.2f}'\n",
    "      .format(df_std[:,0].mean(), df_std[:,1].mean(), df_std[:,2].mean(), df_std[:,3].mean(), df_std[:,4].mean()))\n",
    "print('\\nStandard deviation after standardisation:\\nPrice = {:.2f}, Room = {:.2f}, crime_C_average = {:.2f}, travel_min_to_CBD = {:.2f}, Age = {:.2f}'\n",
    "      .format(df_std[:,0].std(), df_std[:,1].std(), df_std[:,2].std(), df_std[:,3].std(), df_std[:,4].std()))"
   ]
  },
  {
   "cell_type": "markdown",
   "metadata": {},
   "source": [
    "After we scale the variable into the same proportion, we will now build linear models and implement statistical test to make the best version of linear model\n",
    "## Building Linear Model\n",
    " we will now build 3 linear models for each of the following scenarios.\n",
    " \n",
    " 1. Linear model with original data \n",
    " 2. Linear model with transformed data\n",
    " 3. Linear model with both transformed and standardized data\n",
    "### 1. Linear model with initial data"
   ]
  },
  {
   "cell_type": "code",
   "execution_count": 82,
   "metadata": {},
   "outputs": [],
   "source": [
    "X_1 = df_original[['Rooms','crime_C_average','travel_min_to_CBD','Age']]\n",
    "y_1 = df_original['Price']\n",
    "X_train, X_test, y_train, y_test_1 = train_test_split(X_1, y_1, test_size=0.2, random_state=0)\n",
    "regressor = LinearRegression()  \n",
    "regressor.fit(X_train, y_train) #training the algorithm\n",
    "y_pred_1 = regressor.predict(X_test)\n",
    "df_1 = pd.DataFrame({'Actual': y_test_1, 'Predicted': y_pred_1})"
   ]
  },
  {
   "cell_type": "markdown",
   "metadata": {},
   "source": [
    "### 2. Linear model with transformed data"
   ]
  },
  {
   "cell_type": "code",
   "execution_count": 83,
   "metadata": {},
   "outputs": [],
   "source": [
    "X_2 = df_chosen_transform[['trans_Rooms','trans_crime','trans_travel','trans_Age']]\n",
    "y_2 = df_original['Price']\n",
    "X_train, X_test, y_train, y_test_2 = train_test_split(X_2, y_2, test_size=0.2, random_state=0)\n",
    "regressor_2 = LinearRegression()  \n",
    "regressor_2.fit(X_train, y_train) #training the algorithm\n",
    "y_pred_2 = regressor_2.predict(X_test)\n",
    "df_2 = pd.DataFrame({'Actual': y_test_2, 'Predicted': y_pred_2})"
   ]
  },
  {
   "cell_type": "markdown",
   "metadata": {},
   "source": [
    "### 3. Linear model with both transformed and standardized data"
   ]
  },
  {
   "cell_type": "code",
   "execution_count": 84,
   "metadata": {},
   "outputs": [],
   "source": [
    "X_3 = df_normal[['Rooms_scaled','crime_scaled','travel_scaled','Age_scaled']]\n",
    "y_3 = df_original['Price']\n",
    "X_train, X_test, y_train, y_test_3 = train_test_split(X_3, y_3, test_size=0.2, random_state=0)\n",
    "regressor_3 = LinearRegression()  \n",
    "regressor_3.fit(X_train, y_train) #training the algorithm\n",
    "y_pred_3 = regressor_3.predict(X_test)\n",
    "df_3 = pd.DataFrame({'Actual': y_test_3, 'Predicted': y_pred_3})"
   ]
  },
  {
   "cell_type": "markdown",
   "metadata": {},
   "source": [
    "In order to decide which model best predict the `Price`, we will create a function called `evaluate()` to output \n",
    "1. R-squared\n",
    "2. Mean Absolute Error\n",
    "3. Mean Squared Error \n",
    "4. Root Mean Squared Error"
   ]
  },
  {
   "cell_type": "code",
   "execution_count": 85,
   "metadata": {},
   "outputs": [],
   "source": [
    "def evaluate(method ,y_test, y_pred):\n",
    "    print(method)\n",
    "    print('R-squared for this model:', r2_score(y_test, y_pred)) \n",
    "    print('Mean Absolute Error for this model:', metrics.mean_absolute_error(y_test, y_pred))  \n",
    "    print('Mean Squared Error for this model:', metrics.mean_squared_error(y_test, y_pred))  \n",
    "    print('Root Mean Squared Error for this model:', np.sqrt(metrics.mean_squared_error(y_test, y_pred)))\n",
    "    print('\\n')"
   ]
  },
  {
   "cell_type": "code",
   "execution_count": 86,
   "metadata": {},
   "outputs": [
    {
     "name": "stdout",
     "output_type": "stream",
     "text": [
      "Original\n",
      "R-squared for this model: 0.3527643335429239\n",
      "Mean Absolute Error for this model: 340207.38397000387\n",
      "Mean Squared Error for this model: 195454118001.47302\n",
      "Root Mean Squared Error for this model: 442101.9316871088\n",
      "\n",
      "\n",
      "Transformation\n",
      "R-squared for this model: 0.3610522715480753\n",
      "Mean Absolute Error for this model: 338996.2453370488\n",
      "Mean Squared Error for this model: 192951302262.47794\n",
      "Root Mean Squared Error for this model: 439262.2249436866\n",
      "\n",
      "\n",
      "Transform and Normalization\n",
      "R-squared for this model: 0.3610522715480756\n",
      "Mean Absolute Error for this model: 338996.2453370485\n",
      "Mean Squared Error for this model: 192951302262.47784\n",
      "Root Mean Squared Error for this model: 439262.2249436865\n",
      "\n",
      "\n"
     ]
    }
   ],
   "source": [
    "evaluate('Original' ,y_test_1, y_pred_1)\n",
    "evaluate('Transformation' ,y_test_2, y_pred_2)\n",
    "evaluate('Transform and Normalization' ,y_test_3, y_pred_3)"
   ]
  },
  {
   "cell_type": "markdown",
   "metadata": {},
   "source": [
    "As we can see from the `R-Squared` of three distribution above, the model with the highest `R-Squared` is `'Transform and Normalization'` model which can be interpret that the data is closest to the fitted line the most among all the model we created."
   ]
  },
  {
   "cell_type": "markdown",
   "metadata": {},
   "source": [
    "## Conclusion\n",
    "- The transformation is applied when we want to change the distribution or the shape of data to satisfy the statistical assumptions made when fitting model. It will translate each point in your input data set to selected functional output of that point.\n",
    "- The normalization is applied when data have different range to prevent the remove amplitude variation and only focus on the underlying distributribution shape. It prevent bias in our model by not letting high range variable influent the model.\n",
    "- In linear regression, the normalization have not much affect on model. We use normalization to avoid input variables dominate each other because of their range value.\n",
    "- Note that it is possible to perform both data transformation and data normalization on the same variable and data transformation need to start first.\n",
    "- We don't need to scale target variable since it have no effect on R-Squared yet the affect will just be on the Error"
   ]
  },
  {
   "cell_type": "markdown",
   "metadata": {},
   "source": [
    "## Reference\n",
    "- Editor, M. (2019). Regression Analysis: How Do I Interpret R-squared and Assess the Goodness-of-Fit?. Retrieved 27 October 2019, from https://blog.minitab.com/blog/adventures-in-statistics-2/regression-analysis-how-do-i-interpret-r-squared-and-assess-the-goodness-of-fit\n",
    "- Assumptions of Multiple Linear Regression - Statistics Solutions. (2019). Retrieved 27 October 2019, from https://www.statisticssolutions.com/assumptions-of-multiple-linear-regression/\n",
    "- Haversine Formula in Python (Bearing and Distance between two GPS points). Retrieved 27 October 2019, from\n",
    " https://stackoverflow.com/questions/4913349/haversine-formula-in-python-bearing-and-distance-between-two-gps-points\n",
    "- From XML to Pandas dataframes. Retrieved 27 October 2019, from https://medium.com/@robertopreste/from-xml-to-pandas-dataframes-9292980b1c1c"
   ]
  },
  {
   "cell_type": "code",
   "execution_count": null,
   "metadata": {},
   "outputs": [],
   "source": []
  }
 ],
 "metadata": {
  "kernelspec": {
   "display_name": "Python 3",
   "language": "python",
   "name": "python3"
  },
  "language_info": {
   "codemirror_mode": {
    "name": "ipython",
    "version": 3
   },
   "file_extension": ".py",
   "mimetype": "text/x-python",
   "name": "python",
   "nbconvert_exporter": "python",
   "pygments_lexer": "ipython3",
   "version": "3.7.4"
  }
 },
 "nbformat": 4,
 "nbformat_minor": 2
}
